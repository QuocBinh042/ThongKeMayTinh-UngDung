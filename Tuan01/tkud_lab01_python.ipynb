{
 "cells": [
  {
   "cell_type": "markdown",
   "metadata": {
    "id": "08UgBpRvP09-"
   },
   "source": [
    "# Python\n",
    "\n",
    "Python là một ngôn ngữ lập trình phổ biến hiện nay, được tạo ra bởi Guido van Rossum và phát hành vào năm 1991. Python là ngôn ngữ thường được dùng cho các lĩnh vực như: phát triển web, viết phần mềm, tính toán, viết kịch bản hệ thống, phân tích dữ liệu...\n",
    "\n",
    "Tài liệu này hướng dẫn các bạn tiếp cận Python ở góc độ người đã từng học qua một ngôn ngữ lập trình, vì vậy các nội dung sẽ chủ yếu trình bày dưới dạng các ví dụ. Môi trường để thực hành là file notebook (`.ipynb`), các bạn hoàn toàn có thể chạy, ghi chú và chỉnh sửa trên file.\n",
    "\n",
    "Tài liệu gồm những nội dung sau:\n",
    "\n",
    "- Basic Data types (Kiểu dữ liệu cơ bản)\n",
    "    - Numbers (kiểu số)\n",
    "    - Boolean\n",
    "    - String (kiểu chuỗi)\n",
    "    - Input, Output (Nhập, xuất)\n",
    "    - List (kiểu danh sách)\n",
    "- Control flow (Luồng điều khiển)\n",
    "    - if\n",
    "    - while\n",
    "    - for\n",
    "    - function (hàm)\n",
    "- Containers\n",
    "- Built-in functions (một số hàm có sẵn thông dụng)\n",
    "- Tham khảo\n"
   ]
  },
  {
   "cell_type": "markdown",
   "metadata": {
    "id": "rRPNVh1CP0-A"
   },
   "source": [
    "## BASIC DATA TYPES"
   ]
  },
  {
   "cell_type": "markdown",
   "metadata": {
    "id": "1JDnx8QuP0-A"
   },
   "source": [
    "### Numbers\n",
    "\n",
    "Số nguyên và số thực trong Python hoạt động như trong các ngôn ngữ khác."
   ]
  },
  {
   "cell_type": "code",
   "execution_count": 1,
   "metadata": {
    "colab": {
     "base_uri": "https://localhost:8080/"
    },
    "id": "8sqRbtrMP0-B",
    "outputId": "36febf00-6ae7-458e-e3ec-5dbeed9938d8"
   },
   "outputs": [
    {
     "data": {
      "text/plain": [
       "2"
      ]
     },
     "execution_count": 1,
     "metadata": {},
     "output_type": "execute_result"
    }
   ],
   "source": [
    "1 + 1"
   ]
  },
  {
   "cell_type": "code",
   "execution_count": 2,
   "metadata": {
    "colab": {
     "base_uri": "https://localhost:8080/"
    },
    "id": "_pbMmg7XP0-D",
    "outputId": "e342b2b3-4781-4c1f-ab81-9ea571122616"
   },
   "outputs": [
    {
     "data": {
      "text/plain": [
       "20"
      ]
     },
     "execution_count": 2,
     "metadata": {},
     "output_type": "execute_result"
    }
   ],
   "source": [
    "50 - 5 * 6"
   ]
  },
  {
   "cell_type": "code",
   "execution_count": 3,
   "metadata": {
    "colab": {
     "base_uri": "https://localhost:8080/"
    },
    "id": "DoAcI_SJP0-D",
    "outputId": "fa8d914f-213d-4d87-f68e-9dd24b2f40f7"
   },
   "outputs": [
    {
     "data": {
      "text/plain": [
       "5.666666666666667"
      ]
     },
     "execution_count": 3,
     "metadata": {},
     "output_type": "execute_result"
    }
   ],
   "source": [
    "17 / 3  # classic division returns a float"
   ]
  },
  {
   "cell_type": "code",
   "execution_count": 4,
   "metadata": {
    "colab": {
     "base_uri": "https://localhost:8080/"
    },
    "id": "hYmJw0RAP0-D",
    "outputId": "9e7ac1fd-fda9-4fef-a29b-bfb8e961b44c"
   },
   "outputs": [
    {
     "data": {
      "text/plain": [
       "5"
      ]
     },
     "execution_count": 4,
     "metadata": {},
     "output_type": "execute_result"
    }
   ],
   "source": [
    "17 // 3  # floor division discards the fractional part"
   ]
  },
  {
   "cell_type": "code",
   "execution_count": 5,
   "metadata": {
    "colab": {
     "base_uri": "https://localhost:8080/"
    },
    "id": "fjrlh0Y-P0-E",
    "outputId": "a0b1f77e-3ac8-49d3-9d8c-2ed5fe70abb8"
   },
   "outputs": [
    {
     "data": {
      "text/plain": [
       "25"
      ]
     },
     "execution_count": 5,
     "metadata": {},
     "output_type": "execute_result"
    }
   ],
   "source": [
    "5 ** 2  # 5 squared"
   ]
  },
  {
   "cell_type": "code",
   "execution_count": 6,
   "metadata": {
    "colab": {
     "base_uri": "https://localhost:8080/"
    },
    "id": "AZxYxnmxP0-F",
    "outputId": "35872cb3-8fdc-41a0-e2e4-a8cc645150ab"
   },
   "outputs": [
    {
     "data": {
      "text/plain": [
       "0"
      ]
     },
     "execution_count": 6,
     "metadata": {},
     "output_type": "execute_result"
    }
   ],
   "source": [
    "4 % 2"
   ]
  },
  {
   "cell_type": "code",
   "execution_count": 7,
   "metadata": {
    "colab": {
     "base_uri": "https://localhost:8080/"
    },
    "id": "QImkc8oRP0-G",
    "outputId": "d7caf3e9-e5ff-45af-8006-bf1170f2df34"
   },
   "outputs": [
    {
     "data": {
      "text/plain": [
       "1"
      ]
     },
     "execution_count": 7,
     "metadata": {},
     "output_type": "execute_result"
    }
   ],
   "source": [
    "5 % 2"
   ]
  },
  {
   "cell_type": "code",
   "execution_count": 8,
   "metadata": {
    "colab": {
     "base_uri": "https://localhost:8080/"
    },
    "id": "octI5obzP0-G",
    "outputId": "e5303129-a680-43c4-b658-aadbffa1758b"
   },
   "outputs": [
    {
     "data": {
      "text/plain": [
       "50"
      ]
     },
     "execution_count": 8,
     "metadata": {},
     "output_type": "execute_result"
    }
   ],
   "source": [
    "(2 + 3) * (5 + 5)"
   ]
  },
  {
   "cell_type": "code",
   "execution_count": 9,
   "metadata": {
    "colab": {
     "base_uri": "https://localhost:8080/"
    },
    "id": "d0DIhcc1P0-H",
    "outputId": "fc7adcb0-b20a-43bd-80ee-3b72514d012f"
   },
   "outputs": [
    {
     "data": {
      "text/plain": [
       "900"
      ]
     },
     "execution_count": 9,
     "metadata": {},
     "output_type": "execute_result"
    }
   ],
   "source": [
    "# Sử dụng toán tử '=' để gán giá trị cho biến, không cần phải khai báo biến trước khi sử dụng\n",
    "width = 20\n",
    "height = 5 * 9\n",
    "width * height"
   ]
  },
  {
   "cell_type": "code",
   "execution_count": 10,
   "metadata": {
    "colab": {
     "base_uri": "https://localhost:8080/"
    },
    "id": "9a_OFoJoP0-H",
    "outputId": "e2698e36-8eab-4edf-f69a-45f7997d95f5"
   },
   "outputs": [
    {
     "ename": "NameError",
     "evalue": "name 'n' is not defined",
     "output_type": "error",
     "traceback": [
      "\u001b[1;31m---------------------------------------------------------------------------\u001b[0m",
      "\u001b[1;31mNameError\u001b[0m                                 Traceback (most recent call last)",
      "Cell \u001b[1;32mIn[10], line 2\u001b[0m\n\u001b[0;32m      1\u001b[0m \u001b[38;5;66;03m# sử dụng biến mà không gán giá trị thì sẽ gặp thông báo lỗi\u001b[39;00m\n\u001b[1;32m----> 2\u001b[0m \u001b[43mn\u001b[49m\n",
      "\u001b[1;31mNameError\u001b[0m: name 'n' is not defined"
     ]
    }
   ],
   "source": [
    "# sử dụng biến mà không gán giá trị thì sẽ gặp thông báo lỗi\n",
    "n"
   ]
  },
  {
   "cell_type": "markdown",
   "metadata": {
    "id": "JjZ0cUb7P0-I"
   },
   "source": [
    "### Boolean"
   ]
  },
  {
   "cell_type": "code",
   "execution_count": 11,
   "metadata": {
    "colab": {
     "base_uri": "https://localhost:8080/"
    },
    "id": "dDbDsjX1P0-I",
    "outputId": "c9207abe-40b9-43a1-99f4-9ccd3d46a615"
   },
   "outputs": [
    {
     "name": "stdout",
     "output_type": "stream",
     "text": [
      "<class 'bool'>\n",
      "False\n",
      "True\n",
      "True\n",
      "True\n"
     ]
    }
   ],
   "source": [
    "t = True\n",
    "f = False\n",
    "print(type(t))\n",
    "print(t and f)\n",
    "print(t or f)\n",
    "print(not f)\n",
    "print(t != f)    # XOR"
   ]
  },
  {
   "cell_type": "code",
   "execution_count": 12,
   "metadata": {
    "colab": {
     "base_uri": "https://localhost:8080/"
    },
    "id": "yNpe88MEQMKs",
    "outputId": "20274675-f05c-4f58-9c71-2ce653575589"
   },
   "outputs": [
    {
     "name": "stdout",
     "output_type": "stream",
     "text": [
      "True\n",
      "False\n",
      "True\n"
     ]
    }
   ],
   "source": [
    "x = 3\n",
    "print(x%2 != 0)\n",
    "print(x>0 and x%5==0)\n",
    "print(x==3 or x==9)"
   ]
  },
  {
   "cell_type": "markdown",
   "metadata": {
    "id": "NJXU_tMpP0-I"
   },
   "source": [
    "### String"
   ]
  },
  {
   "cell_type": "code",
   "execution_count": 13,
   "metadata": {
    "colab": {
     "base_uri": "https://localhost:8080/"
    },
    "id": "DgQt2GSEP0-I",
    "outputId": "c2d79aec-3fd7-44dd-fed5-1b795544287d"
   },
   "outputs": [
    {
     "name": "stdout",
     "output_type": "stream",
     "text": [
      "hello\n",
      "5\n"
     ]
    }
   ],
   "source": [
    "hello = 'hello'               # String literals can use single quotes\n",
    "world = \"world\"               # or double quotes; it does not matter.\n",
    "print(hello)                  # Prints \"hello\"\n",
    "print(len(hello))             # String length; prints \"5\""
   ]
  },
  {
   "cell_type": "code",
   "execution_count": 14,
   "metadata": {
    "colab": {
     "base_uri": "https://localhost:8080/"
    },
    "id": "75D_hz3QP0-J",
    "outputId": "19b4b404-a681-48d8-8592-eafd3c4412d8"
   },
   "outputs": [
    {
     "name": "stdout",
     "output_type": "stream",
     "text": [
      "hello world\n"
     ]
    }
   ],
   "source": [
    "hw = hello + ' ' + world      # String concatenation\n",
    "print(hw)                     # Prints \"hello world\""
   ]
  },
  {
   "cell_type": "code",
   "execution_count": 15,
   "metadata": {
    "colab": {
     "base_uri": "https://localhost:8080/"
    },
    "id": "pABdCvxtP0-J",
    "outputId": "6ed2044d-018d-4ca8-e853-efa4904a9005"
   },
   "outputs": [
    {
     "name": "stdout",
     "output_type": "stream",
     "text": [
      "hello world 12\n",
      "hello world 12\n"
     ]
    }
   ],
   "source": [
    "hw12 = '%s %s %d' % (hello, world, 12)      # sprintf style string formatting\n",
    "print(hw12)                                 # prints \"hello world 12\"\n",
    "hw12 = \"{} {} {}\".format(hello, world, 12)  # sprintf style string formatting\n",
    "print(hw12)                                 # prints \"hello world 12\""
   ]
  },
  {
   "cell_type": "markdown",
   "metadata": {
    "id": "bvz6aT-UP0-J"
   },
   "source": [
    "Xâu kí tự trong Python là một lớp đối tượng và có rất nhiều phương thức hữu ích; ví dụ:"
   ]
  },
  {
   "cell_type": "code",
   "execution_count": 16,
   "metadata": {
    "colab": {
     "base_uri": "https://localhost:8080/"
    },
    "id": "F1xUE7LmP0-J",
    "outputId": "b808dc98-404c-4df8-87e1-654f25eff3ce"
   },
   "outputs": [
    {
     "name": "stdout",
     "output_type": "stream",
     "text": [
      "Hello\n",
      "HELLO\n",
      "  hello\n",
      " hello \n",
      "he(ell)(ell)o\n",
      "world\n"
     ]
    }
   ],
   "source": [
    "s = \"hello\"\n",
    "print(s.capitalize())  # Capitalize a string; prints \"Hello\"\n",
    "print(s.upper())       # Convert a string to uppercase; prints \"HELLO\"\n",
    "print(s.rjust(7))      # Right-justify a string, padding with spaces; prints \"  hello\"\n",
    "print(s.center(7))     # Center a string, padding with spaces; prints \" hello \"\n",
    "print(s.replace('l', '(ell)'))  # Replace all instances of one substring with another;\n",
    "                                # prints \"he(ell)(ell)o\"\n",
    "print('  world '.strip())  # Strip leading and trailing whitespace; prints \"world\""
   ]
  },
  {
   "cell_type": "markdown",
   "metadata": {
    "id": "smjwWTDvP0-K"
   },
   "source": [
    "Bạn có thể tìm hiểu thêm vì các phương thức của lớp xâu kí tự tại [đây](https://www.w3schools.com/python/python_strings_methods.asp)"
   ]
  },
  {
   "cell_type": "markdown",
   "metadata": {
    "id": "0pnkf4zwP0-M"
   },
   "source": [
    "### List"
   ]
  },
  {
   "cell_type": "code",
   "execution_count": 17,
   "metadata": {
    "colab": {
     "base_uri": "https://localhost:8080/"
    },
    "id": "SKawB1-tP0-M",
    "outputId": "36005021-b4cb-4715-8f91-1469c052d9eb"
   },
   "outputs": [
    {
     "data": {
      "text/plain": [
       "[1, 2, 3]"
      ]
     },
     "execution_count": 17,
     "metadata": {},
     "output_type": "execute_result"
    }
   ],
   "source": [
    "[1,2,3] # Elements are the same data type"
   ]
  },
  {
   "cell_type": "code",
   "execution_count": 18,
   "metadata": {
    "colab": {
     "base_uri": "https://localhost:8080/"
    },
    "id": "Krgxy3tQP0-M",
    "outputId": "276d803d-e309-4f7f-ca88-2d86891bb925"
   },
   "outputs": [
    {
     "data": {
      "text/plain": [
       "['hi', 1, [1, 2]]"
      ]
     },
     "execution_count": 18,
     "metadata": {},
     "output_type": "execute_result"
    }
   ],
   "source": [
    "['hi',1,[1,2]]  # Elements are the different data types"
   ]
  },
  {
   "cell_type": "code",
   "execution_count": 19,
   "metadata": {
    "colab": {
     "base_uri": "https://localhost:8080/"
    },
    "id": "vS1Oo1waP0-O",
    "outputId": "5bcd05ff-580f-401f-f007-9c79f75e2c89"
   },
   "outputs": [
    {
     "name": "stdout",
     "output_type": "stream",
     "text": [
      "[4, 5, ['target']]\n",
      "['target']\n",
      "target\n"
     ]
    }
   ],
   "source": [
    "nest = [1,2,3,[4,5,['target']]]\n",
    "\n",
    "print(nest[3])\n",
    "print(nest[3][2])\n",
    "print(nest[3][2][0])"
   ]
  },
  {
   "cell_type": "code",
   "execution_count": 20,
   "metadata": {
    "id": "d9nwNy0BP0-M"
   },
   "outputs": [],
   "source": [
    "my_list = ['a','b','c']   # declare a new variable"
   ]
  },
  {
   "cell_type": "code",
   "execution_count": 21,
   "metadata": {
    "colab": {
     "base_uri": "https://localhost:8080/"
    },
    "id": "SBz4Zna2P0-M",
    "outputId": "007a2cd4-a864-4440-99eb-08e073106606"
   },
   "outputs": [
    {
     "data": {
      "text/plain": [
       "['a', 'b', 'c', 'd']"
      ]
     },
     "execution_count": 21,
     "metadata": {},
     "output_type": "execute_result"
    }
   ],
   "source": [
    "my_list.append('d')     # append an element\n",
    "my_list"
   ]
  },
  {
   "cell_type": "code",
   "execution_count": 22,
   "metadata": {
    "colab": {
     "base_uri": "https://localhost:8080/"
    },
    "id": "H0e_IUn6P0-M",
    "outputId": "03b24499-4a75-46ed-ca7a-eb0d3832baa1"
   },
   "outputs": [
    {
     "name": "stdout",
     "output_type": "stream",
     "text": [
      "a\n",
      "c\n"
     ]
    }
   ],
   "source": [
    "# Access single element by id\n",
    "print(my_list[0])\n",
    "print(my_list[2])"
   ]
  },
  {
   "cell_type": "code",
   "execution_count": 23,
   "metadata": {
    "colab": {
     "base_uri": "https://localhost:8080/"
    },
    "id": "ucpL1743P0-N",
    "outputId": "85addffc-023b-4e4e-ce94-fbfffb5fb0ed"
   },
   "outputs": [
    {
     "name": "stdout",
     "output_type": "stream",
     "text": [
      "['b', 'c', 'd']\n",
      "['b', 'c']\n"
     ]
    }
   ],
   "source": [
    "# Access a subset of list using slicing (':' operator)\n",
    "print(my_list[1:])\n",
    "print(my_list[1:3])"
   ]
  },
  {
   "cell_type": "code",
   "execution_count": 24,
   "metadata": {
    "colab": {
     "base_uri": "https://localhost:8080/"
    },
    "id": "cuPy8Tn8P0-N",
    "outputId": "eaf04bf8-9f81-40ef-82bb-49cb493fe74f"
   },
   "outputs": [
    {
     "data": {
      "text/plain": [
       "['NEW', 'b', 'c', 'd']"
      ]
     },
     "execution_count": 24,
     "metadata": {},
     "output_type": "execute_result"
    }
   ],
   "source": [
    "# Change value\n",
    "my_list[0] = 'NEW'\n",
    "my_list"
   ]
  },
  {
   "cell_type": "code",
   "execution_count": 25,
   "metadata": {
    "colab": {
     "base_uri": "https://localhost:8080/"
    },
    "id": "S6cJ_Gnhh81j",
    "outputId": "9f544e3c-8739-4a44-9e47-955b77a690ed"
   },
   "outputs": [
    {
     "data": {
      "text/plain": [
       "True"
      ]
     },
     "execution_count": 25,
     "metadata": {},
     "output_type": "execute_result"
    }
   ],
   "source": [
    "# Kiểm tra phần tử 'NEW' có thuộc danh sách\n",
    "'NEW' in my_list"
   ]
  },
  {
   "cell_type": "code",
   "execution_count": 26,
   "metadata": {
    "colab": {
     "base_uri": "https://localhost:8080/"
    },
    "id": "G6Mzon_XiI0x",
    "outputId": "03fb4621-0bf9-417e-cada-f8d444b8666a"
   },
   "outputs": [
    {
     "name": "stdout",
     "output_type": "stream",
     "text": [
      "['NEW', 'b', 'd']\n"
     ]
    }
   ],
   "source": [
    "# Xóa phần tử ở vị trí thứ 2\n",
    "del my_list[2]\n",
    "print(my_list)"
   ]
  },
  {
   "cell_type": "code",
   "execution_count": 27,
   "metadata": {
    "colab": {
     "base_uri": "https://localhost:8080/"
    },
    "id": "yibcKLhF33YY",
    "outputId": "3b6d8c0d-be31-450f-fe61-c8c94cf32792"
   },
   "outputs": [
    {
     "name": "stdout",
     "output_type": "stream",
     "text": [
      "NEW\n",
      "b\n",
      "d\n"
     ]
    }
   ],
   "source": [
    "# Print each element in list\n",
    "for x in my_list:\n",
    "  print(x)"
   ]
  },
  {
   "cell_type": "markdown",
   "metadata": {
    "id": "w9z2w3NDZale"
   },
   "source": [
    "Bạn có thể tìm hiểu thêm vì các phương thức của list tại [đây](https://www.w3schools.com/python/python_lists_methods.asp)"
   ]
  },
  {
   "cell_type": "markdown",
   "metadata": {
    "id": "WJF-84_1P0-K"
   },
   "source": [
    "### Input, Output"
   ]
  },
  {
   "cell_type": "markdown",
   "metadata": {
    "id": "yXaUYD4fP0-K"
   },
   "source": [
    "**Output**"
   ]
  },
  {
   "cell_type": "code",
   "execution_count": 28,
   "metadata": {
    "id": "5YHPeDOuP0-K"
   },
   "outputs": [],
   "source": [
    "x = 'hello'"
   ]
  },
  {
   "cell_type": "code",
   "execution_count": 29,
   "metadata": {
    "colab": {
     "base_uri": "https://localhost:8080/",
     "height": 35
    },
    "id": "9CGiTb4XP0-K",
    "outputId": "ce547166-b513-4ef4-8cd1-52ba1b1b8f49"
   },
   "outputs": [
    {
     "data": {
      "text/plain": [
       "'hello'"
      ]
     },
     "execution_count": 29,
     "metadata": {},
     "output_type": "execute_result"
    }
   ],
   "source": [
    "x"
   ]
  },
  {
   "cell_type": "code",
   "execution_count": 30,
   "metadata": {
    "colab": {
     "base_uri": "https://localhost:8080/"
    },
    "id": "OvGSCHwoP0-K",
    "outputId": "be85144a-fb59-4a2a-8798-bcbece7f4def"
   },
   "outputs": [
    {
     "name": "stdout",
     "output_type": "stream",
     "text": [
      "hello\n"
     ]
    }
   ],
   "source": [
    "print(x)"
   ]
  },
  {
   "cell_type": "code",
   "execution_count": 31,
   "metadata": {
    "colab": {
     "base_uri": "https://localhost:8080/"
    },
    "id": "Z4vuqiwRP0-L",
    "outputId": "eb926e6b-29d4-45e8-ac8f-e0c87947d509"
   },
   "outputs": [
    {
     "name": "stdout",
     "output_type": "stream",
     "text": [
      "Sam 12\n",
      "Sam,12\n",
      "Sam  has the number  12\n"
     ]
    }
   ],
   "source": [
    "num = 12\n",
    "name = 'Sam'\n",
    "\n",
    "print(name, num)\n",
    "print(name, num, sep=',') # Adding the seperator ',' between 2 variables name and num\n",
    "print(name, ' has the number ', num)"
   ]
  },
  {
   "cell_type": "code",
   "execution_count": 32,
   "metadata": {
    "colab": {
     "base_uri": "https://localhost:8080/"
    },
    "id": "pQa1sfPRP0-L",
    "outputId": "317e49d3-edba-4561-c13c-19981055d56a"
   },
   "outputs": [
    {
     "name": "stdout",
     "output_type": "stream",
     "text": [
      "My number is: 12, and my name is: Sam\n"
     ]
    }
   ],
   "source": [
    "print(f'My number is: {num}, and my name is: {name}')"
   ]
  },
  {
   "cell_type": "code",
   "execution_count": 33,
   "metadata": {
    "colab": {
     "base_uri": "https://localhost:8080/"
    },
    "id": "kvpZzJ50P0-L",
    "outputId": "4ee8e122-46e9-4a62-fda9-79cfff196bc4"
   },
   "outputs": [
    {
     "name": "stdout",
     "output_type": "stream",
     "text": [
      "My number is: 12, and my name is: Sam\n"
     ]
    }
   ],
   "source": [
    "print('My number is: {}, and my name is: {}'.format(num,name))"
   ]
  },
  {
   "cell_type": "code",
   "execution_count": 34,
   "metadata": {
    "colab": {
     "base_uri": "https://localhost:8080/"
    },
    "id": "YxcXo3bRP0-L",
    "outputId": "f160f5c1-3745-46ce-d49d-85e73b225658"
   },
   "outputs": [
    {
     "name": "stdout",
     "output_type": "stream",
     "text": [
      "My number is: 12, and my name is: Sam\n"
     ]
    }
   ],
   "source": [
    "print('My number is: %d, and my name is: %s' % (num,name))"
   ]
  },
  {
   "cell_type": "markdown",
   "metadata": {
    "id": "z52DoohyP0-L"
   },
   "source": [
    "**Input**"
   ]
  },
  {
   "cell_type": "code",
   "execution_count": 35,
   "metadata": {
    "colab": {
     "base_uri": "https://localhost:8080/"
    },
    "id": "w-KNN10sP0-L",
    "outputId": "d6de8889-ee5e-4e52-8ccf-5cad962eda35"
   },
   "outputs": [
    {
     "name": "stdout",
     "output_type": "stream",
     "text": [
      "Enter your name:\n"
     ]
    },
    {
     "name": "stdout",
     "output_type": "stream",
     "text": [
      " Peter Parker\n"
     ]
    },
    {
     "name": "stdout",
     "output_type": "stream",
     "text": [
      "Hello, Peter Parker\n",
      "<class 'str'>\n"
     ]
    }
   ],
   "source": [
    "# Nhập một chuỗi\n",
    "print('Enter your name:')\n",
    "x = input()\n",
    "print('Hello, ' + x)\n",
    "print(type(x))"
   ]
  },
  {
   "cell_type": "code",
   "execution_count": 36,
   "metadata": {
    "colab": {
     "base_uri": "https://localhost:8080/"
    },
    "id": "hZ8mSmgeP0-L",
    "outputId": "17890629-8955-4123-9e2d-95ee41c6016b"
   },
   "outputs": [
    {
     "name": "stdout",
     "output_type": "stream",
     "text": [
      "Enter your age:  19\n"
     ]
    },
    {
     "name": "stdout",
     "output_type": "stream",
     "text": [
      "Your age is 19\n",
      "<class 'int'>\n"
     ]
    }
   ],
   "source": [
    "# Nhập một số nguyên\n",
    "age = int(input('Enter your age: '))\n",
    "print('Your age is', age)\n",
    "print(type(age))"
   ]
  },
  {
   "cell_type": "code",
   "execution_count": 37,
   "metadata": {
    "colab": {
     "base_uri": "https://localhost:8080/"
    },
    "id": "BF7SxVMFP0-L",
    "outputId": "c2ddcf4d-0acd-475c-c0ad-ba36c66de862"
   },
   "outputs": [
    {
     "name": "stdout",
     "output_type": "stream",
     "text": [
      "Enter your weight:  68.7\n"
     ]
    },
    {
     "name": "stdout",
     "output_type": "stream",
     "text": [
      "Your weight is 68.7\n",
      "<class 'float'>\n"
     ]
    }
   ],
   "source": [
    "# Nhập một số thực\n",
    "weight = float(input('Enter your weight: '))\n",
    "print('Your weight is', weight)\n",
    "print(type(weight))"
   ]
  },
  {
   "cell_type": "code",
   "execution_count": 38,
   "metadata": {
    "colab": {
     "base_uri": "https://localhost:8080/"
    },
    "id": "LnzIx87pbswy",
    "outputId": "4f3ad137-0adc-42b3-acde-61676dfe9c21"
   },
   "outputs": [
    {
     "name": "stdout",
     "output_type": "stream",
     "text": [
      "Enter number of elements :  4\n",
      " 2\n",
      " 78\n",
      " -4\n",
      " 9\n"
     ]
    },
    {
     "name": "stdout",
     "output_type": "stream",
     "text": [
      "[2, 78, -4, 9]\n"
     ]
    }
   ],
   "source": [
    "# Nhập một danh sách với số lượng xác định số phần tử số nguyên\n",
    "# creating an empty list\n",
    "lst = []\n",
    "\n",
    "n = int(input(\"Enter number of elements : \"))\n",
    "\n",
    "for i in range(0, n):\n",
    "    ele = int(input())\n",
    "    # adding the element\n",
    "    lst.append(ele)\n",
    "\n",
    "print(lst)"
   ]
  },
  {
   "cell_type": "code",
   "execution_count": 39,
   "metadata": {
    "colab": {
     "base_uri": "https://localhost:8080/"
    },
    "id": "Uw0GsGN4aCRN",
    "outputId": "cefdd91d-6516-46c3-e0dd-825156308f64"
   },
   "outputs": [
    {
     "name": "stdout",
     "output_type": "stream",
     "text": [
      "[1.5, -8.25, 9.0, 2.08]\n"
     ]
    }
   ],
   "source": [
    "# Nhập một list các phần tử số thực cách nhau bởi dấu ,\n",
    "input_string = '1.5, -8.25, 9, 2.08'\n",
    "\n",
    "lst1 = [float(x) for x in input_string.split(',')]\n",
    "print(lst1)"
   ]
  },
  {
   "cell_type": "code",
   "execution_count": 40,
   "metadata": {
    "colab": {
     "base_uri": "https://localhost:8080/"
    },
    "id": "DEZZGgYsdK1K",
    "outputId": "f55f3692-a628-4cc6-eab1-64e844c1f10e"
   },
   "outputs": [
    {
     "name": "stdout",
     "output_type": "stream",
     "text": [
      "[1.5, -8.25, 9.0, 2.08]\n"
     ]
    }
   ],
   "source": [
    "# Nhập một list các phần tử số thực cách nhau bởi dấu , (cách khác)\n",
    "input_string = '1.5, -8.25, 9, 2.08'\n",
    "\n",
    "lst2 = list(map(float, input_string.split(',')))\n",
    "print(lst2)"
   ]
  },
  {
   "cell_type": "markdown",
   "metadata": {
    "id": "tdoJkTHid4Zb"
   },
   "source": [
    "## CONTROL FLOW"
   ]
  },
  {
   "cell_type": "markdown",
   "metadata": {
    "id": "0uHsHdh6d7fs"
   },
   "source": [
    "### if, if-else, if-elif-else"
   ]
  },
  {
   "cell_type": "markdown",
   "metadata": {
    "id": "LtPyp5jwP0-Y"
   },
   "source": [
    "Cú pháp câu lệnh if:"
   ]
  },
  {
   "cell_type": "markdown",
   "metadata": {
    "id": "uYPLFuJ0P0-Y"
   },
   "source": [
    "```python\n",
    "if logical_condition:\n",
    "    statement(s)\n",
    "```"
   ]
  },
  {
   "cell_type": "markdown",
   "metadata": {
    "id": "C0jpNm_jP0-Y"
   },
   "source": [
    "Cần phải đặt dấu `:` ở cuối câu lệnh điều kiện, và các câu lệnh con ở các dòng tiếp theo phải thụt vào trong so với câu lệnh if (thông thường là 4 khoảng trắng)"
   ]
  },
  {
   "cell_type": "code",
   "execution_count": 41,
   "metadata": {
    "colab": {
     "base_uri": "https://localhost:8080/"
    },
    "id": "1YQK5jGpP0-Y",
    "outputId": "1994034d-6481-437f-a71b-6eb94e274c48"
   },
   "outputs": [
    {
     "name": "stdout",
     "output_type": "stream",
     "text": [
      "a is greater than b\n"
     ]
    }
   ],
   "source": [
    "# if\n",
    "a = 2000\n",
    "b = 1999\n",
    "\n",
    "if a > b:\n",
    "  print('a is greater than b')"
   ]
  },
  {
   "cell_type": "code",
   "execution_count": 42,
   "metadata": {
    "colab": {
     "base_uri": "https://localhost:8080/"
    },
    "id": "ISNI_eq-P0-Z",
    "outputId": "2735313c-0e36-40e7-bc6e-bcc96e61b3cd"
   },
   "outputs": [
    {
     "name": "stdout",
     "output_type": "stream",
     "text": [
      "a is greater than b\n"
     ]
    }
   ],
   "source": [
    "# if-else\n",
    "a = 2000\n",
    "b = 1999\n",
    "\n",
    "if a < b:\n",
    "  print('b is greater than a')\n",
    "else:\n",
    "  print('a is greater than b')"
   ]
  },
  {
   "cell_type": "code",
   "execution_count": 43,
   "metadata": {
    "colab": {
     "base_uri": "https://localhost:8080/"
    },
    "id": "U9avug5RP0-a",
    "outputId": "580fac0a-81a9-4dc4-b478-cce1f0fc6ec3"
   },
   "outputs": [
    {
     "name": "stdout",
     "output_type": "stream",
     "text": [
      "a and b are equal\n"
     ]
    }
   ],
   "source": [
    "# if-elif-else\n",
    "a = 2000\n",
    "b = 2000\n",
    "\n",
    "if b > a:\n",
    "  print('b is greater than a')\n",
    "elif a == b:\n",
    "  print('a and b are equal')\n",
    "else:\n",
    "  print('a is greater than b')"
   ]
  },
  {
   "cell_type": "code",
   "execution_count": 44,
   "metadata": {
    "colab": {
     "base_uri": "https://localhost:8080/"
    },
    "id": "UWyB_8IYP0-a",
    "outputId": "d530c4f5-1e6b-46b0-ed01-42d93dbf5a4f"
   },
   "outputs": [
    {
     "name": "stdout",
     "output_type": "stream",
     "text": [
      "a < b\n",
      "a = 1999\n"
     ]
    }
   ],
   "source": [
    "# Nested if (câu lệnh điều kiện lồng nhau)\n",
    "a = 1999\n",
    "b = 2000\n",
    "\n",
    "if a > b:\n",
    "    print('a > b')\n",
    "elif a < b:\n",
    "    print('a < b')\n",
    "    if a == 1999:\n",
    "        print('a = 1999')\n",
    "    else:\n",
    "        print('a is not equal to 1999')\n",
    "else:\n",
    "    print('a = b')"
   ]
  },
  {
   "cell_type": "markdown",
   "metadata": {
    "id": "2fHtZiBBP0-b"
   },
   "source": [
    "### while"
   ]
  },
  {
   "cell_type": "markdown",
   "metadata": {
    "id": "0oR5ZJGQP0-b"
   },
   "source": [
    "```python\n",
    "while logical_condition:\n",
    "    statement(s)\n",
    "```"
   ]
  },
  {
   "cell_type": "code",
   "execution_count": 45,
   "metadata": {
    "colab": {
     "base_uri": "https://localhost:8080/"
    },
    "id": "wLAXd_-XP0-b",
    "outputId": "6146666f-1960-400c-b9cb-9564c2e65058"
   },
   "outputs": [
    {
     "name": "stdout",
     "output_type": "stream",
     "text": [
      "2\n",
      "4\n",
      "6\n",
      "8\n",
      "10\n",
      "12\n",
      "14\n",
      "16\n",
      "18\n",
      "Mission accomplished!\n"
     ]
    }
   ],
   "source": [
    "i = 1\n",
    "while i < 10:\n",
    "    print(i*2)\n",
    "    i = i + 1\n",
    "print('Mission accomplished!')"
   ]
  },
  {
   "cell_type": "markdown",
   "metadata": {
    "id": "hv7X201dP0-b"
   },
   "source": [
    "### for"
   ]
  },
  {
   "cell_type": "markdown",
   "metadata": {
    "id": "irjt1RVeP0-b"
   },
   "source": [
    "Với mỗi phần tử của biến **sequence**, câu lệnh statement(s) được thực thi"
   ]
  },
  {
   "cell_type": "markdown",
   "metadata": {
    "id": "ooQ5qU-PP0-b"
   },
   "source": [
    "```python\n",
    "for variable in sequence:\n",
    "    statement(s)\n",
    "```"
   ]
  },
  {
   "cell_type": "code",
   "execution_count": 46,
   "metadata": {
    "colab": {
     "base_uri": "https://localhost:8080/"
    },
    "id": "H-Q3HHmyP0-c",
    "outputId": "191a105d-569c-419a-e62f-ecb6a3ec3370"
   },
   "outputs": [
    {
     "name": "stdout",
     "output_type": "stream",
     "text": [
      "0\n",
      "1\n",
      "2\n",
      "3\n",
      "4\n",
      "5\n",
      "6\n",
      "7\n",
      "8\n",
      "9\n"
     ]
    }
   ],
   "source": [
    "for i in range(10):\n",
    "    print(i)"
   ]
  },
  {
   "cell_type": "code",
   "execution_count": 47,
   "metadata": {
    "colab": {
     "base_uri": "https://localhost:8080/"
    },
    "id": "cNU8r68sP0-c",
    "outputId": "20a399dc-a0e9-418b-f720-2f23f7b1179f"
   },
   "outputs": [
    {
     "name": "stdout",
     "output_type": "stream",
     "text": [
      "5\n",
      "25\n",
      "50\n",
      "75\n"
     ]
    }
   ],
   "source": [
    "for i in [1, 5, 10, 15]:\n",
    "    print(i*5)"
   ]
  },
  {
   "cell_type": "markdown",
   "metadata": {
    "id": "ITdSVmQGfs4Z"
   },
   "source": [
    "### break"
   ]
  },
  {
   "cell_type": "markdown",
   "metadata": {
    "id": "B6VeUM04fs4d"
   },
   "source": [
    "Câu lệnh `break` dùng để thoát khỏi vòng lặp"
   ]
  },
  {
   "cell_type": "code",
   "execution_count": 48,
   "metadata": {
    "colab": {
     "base_uri": "https://localhost:8080/"
    },
    "id": "_SJu3uokfs4e",
    "outputId": "34999602-1639-416b-c01f-f16144631bbe"
   },
   "outputs": [
    {
     "name": "stdout",
     "output_type": "stream",
     "text": [
      "0\n",
      "1\n",
      "2\n",
      "3\n",
      "4\n"
     ]
    }
   ],
   "source": [
    "for i in range(10):\n",
    "    print(i)\n",
    "    if i >= 4:\n",
    "        break"
   ]
  },
  {
   "cell_type": "markdown",
   "metadata": {
    "id": "VPuU56IGfs4f"
   },
   "source": [
    "### continue"
   ]
  },
  {
   "cell_type": "markdown",
   "metadata": {
    "id": "eR8LF6_zfs4g"
   },
   "source": [
    "Câu lệnh `continue` khiến cho vòng lặp kế tiếp được thực hiện, ngay cả khi vòng lặp hiện tại chưa được thực hiện xong."
   ]
  },
  {
   "cell_type": "code",
   "execution_count": 49,
   "metadata": {
    "colab": {
     "base_uri": "https://localhost:8080/"
    },
    "id": "H4Tvb5dEfs4h",
    "outputId": "c1a2441a-3515-431c-b4b2-b174f3ff3c41"
   },
   "outputs": [
    {
     "name": "stdout",
     "output_type": "stream",
     "text": [
      "0\n",
      "1\n",
      "Ignoring 2\n",
      "3\n",
      "4\n",
      "5\n",
      "6\n",
      "7\n",
      "8\n",
      "9\n"
     ]
    }
   ],
   "source": [
    "for i in range(10):\n",
    "    if i == 2:\n",
    "        print('Ignoring 2')\n",
    "        continue\n",
    "    else:\n",
    "        print(i)"
   ]
  },
  {
   "cell_type": "markdown",
   "metadata": {
    "id": "6kub0up14yxj"
   },
   "source": [
    "### Function"
   ]
  },
  {
   "cell_type": "markdown",
   "metadata": {
    "id": "KnG6VnSa5sf-"
   },
   "source": [
    "Cú pháp định nghĩa hàm:\n",
    "\n",
    "```python\n",
    "def function_name( parameters... ):\n",
    "   \"function_docstring\"\n",
    "   function_suite...\n",
    "   ...\n",
    "   return [return_value]\n",
    "```\n",
    "\n",
    "Trong đó:\n",
    "\n",
    "- function_name: tên hàm\n",
    "- parameters: danh sách các tham số\n",
    "- function_docstring: ghi chú, giải thích ý nghĩa của hàm. Nên có để viết code cho dễ đọc\n",
    "- function_suite: chứa các câu lệnh sẽ thực hiện trong hàm\n",
    "- return_value: giá trị trả về của hàm nếu có\n"
   ]
  },
  {
   "cell_type": "code",
   "execution_count": 50,
   "metadata": {
    "id": "IQl2QCuc4x76"
   },
   "outputs": [],
   "source": [
    "# Define a function\n",
    "def my_function():\n",
    "  \"This is a testing function\"\n",
    "  print(\"Hello from a function\")"
   ]
  },
  {
   "cell_type": "code",
   "execution_count": 51,
   "metadata": {
    "colab": {
     "base_uri": "https://localhost:8080/"
    },
    "id": "dXU18fP47Upd",
    "outputId": "abf58f5d-69df-4e4b-d209-21cb45b00428"
   },
   "outputs": [
    {
     "name": "stdout",
     "output_type": "stream",
     "text": [
      "Hello from a function\n"
     ]
    }
   ],
   "source": [
    "# Call the defined function\n",
    "my_function()"
   ]
  },
  {
   "cell_type": "code",
   "execution_count": 52,
   "metadata": {
    "colab": {
     "base_uri": "https://localhost:8080/"
    },
    "id": "8W2IbTcK7dVD",
    "outputId": "5321d4d6-a973-4487-a712-21ef4017b6d5"
   },
   "outputs": [
    {
     "name": "stdout",
     "output_type": "stream",
     "text": [
      "Emily Refsnes\n",
      "Tobias Refsnes\n",
      "Linus Refsnes\n"
     ]
    }
   ],
   "source": [
    "# Define and call a function with a parameter\n",
    "def my_function(fname):\n",
    "  print(fname + \" Refsnes\")\n",
    "\n",
    "my_function(\"Emily\")\n",
    "my_function(\"Tobias\")\n",
    "my_function(\"Linus\")"
   ]
  },
  {
   "cell_type": "code",
   "execution_count": 53,
   "metadata": {
    "colab": {
     "base_uri": "https://localhost:8080/"
    },
    "id": "LdHBHkAC8AKD",
    "outputId": "c5316721-3ded-40d7-f298-2a9cc91153d5"
   },
   "outputs": [
    {
     "name": "stdout",
     "output_type": "stream",
     "text": [
      "Emil Refsnes\n"
     ]
    }
   ],
   "source": [
    "# Define and call a function with two parameters\n",
    "def my_function(fname, lname):\n",
    "  print(fname + \" \" + lname)\n",
    "\n",
    "my_function(\"Emil\", \"Refsnes\")"
   ]
  },
  {
   "cell_type": "code",
   "execution_count": 54,
   "metadata": {
    "colab": {
     "base_uri": "https://localhost:8080/"
    },
    "id": "LhwzxXpx8g4b",
    "outputId": "f771199c-615f-475a-f9fa-a294cbdab7be"
   },
   "outputs": [
    {
     "name": "stdout",
     "output_type": "stream",
     "text": [
      "apple\n",
      "banana\n",
      "cherry\n"
     ]
    }
   ],
   "source": [
    "# Passing a list as an argument\n",
    "def my_function(food):\n",
    "  for x in food:\n",
    "    print(x)\n",
    "\n",
    "fruits = [\"apple\", \"banana\", \"cherry\"]\n",
    "\n",
    "my_function(fruits)"
   ]
  },
  {
   "cell_type": "code",
   "execution_count": 55,
   "metadata": {
    "colab": {
     "base_uri": "https://localhost:8080/"
    },
    "id": "k6JykFKT8uKh",
    "outputId": "c4d1e4ea-daaf-40c8-d89c-8200d0a75fca"
   },
   "outputs": [
    {
     "name": "stdout",
     "output_type": "stream",
     "text": [
      "15\n",
      "25\n",
      "45\n"
     ]
    }
   ],
   "source": [
    "# Function with return value\n",
    "def my_function(x):\n",
    "  return 5 * x\n",
    "\n",
    "print(my_function(3))\n",
    "print(my_function(5))\n",
    "print(my_function(9))"
   ]
  },
  {
   "cell_type": "markdown",
   "metadata": {
    "id": "3bAKxrDhP0-j"
   },
   "source": [
    "Ta có thể định nghĩa hàm nhận tham số tùy chọn, như sau:"
   ]
  },
  {
   "cell_type": "code",
   "execution_count": 56,
   "metadata": {
    "colab": {
     "base_uri": "https://localhost:8080/"
    },
    "id": "_hvvLBv9P0-j",
    "outputId": "2248f62c-5eb5-4c94-ceaf-3e403797c8bc"
   },
   "outputs": [
    {
     "name": "stdout",
     "output_type": "stream",
     "text": [
      "Hello, Bob\n",
      "HELLO, FRED!\n"
     ]
    }
   ],
   "source": [
    "# Define a function with default parameter 'loud'\n",
    "def hello(name, loud=False):\n",
    "    if loud:\n",
    "        print('HELLO, %s!' % name.upper())\n",
    "    else:\n",
    "        print('Hello, %s' % name)\n",
    "\n",
    "hello('Bob') # Prints \"Hello, Bob\"\n",
    "hello('Fred', loud=True)  # Prints \"HELLO, FRED!\""
   ]
  },
  {
   "cell_type": "markdown",
   "metadata": {
    "id": "crUPwKHFP0-U"
   },
   "source": [
    "## BUILT-IN FUNCTIONS"
   ]
  },
  {
   "cell_type": "code",
   "execution_count": 57,
   "metadata": {
    "colab": {
     "base_uri": "https://localhost:8080/"
    },
    "id": "M8RrLuUDHitY",
    "outputId": "29bfb226-9839-42d0-9bc4-8a4f619aee38"
   },
   "outputs": [
    {
     "name": "stdout",
     "output_type": "stream",
     "text": [
      "3\n"
     ]
    }
   ],
   "source": [
    "# Hàm lấy độ dài\n",
    "mylist = [\"apple\", \"banana\", \"cherry\"]\n",
    "n = len(mylist)\n",
    "print(n)"
   ]
  },
  {
   "cell_type": "code",
   "execution_count": 58,
   "metadata": {
    "colab": {
     "base_uri": "https://localhost:8080/"
    },
    "id": "_e5WcKi-Hi2q",
    "outputId": "d7c1e580-2f30-4551-dad5-71eac2001809"
   },
   "outputs": [
    {
     "name": "stdout",
     "output_type": "stream",
     "text": [
      "var: ('apple', 'banana', 'cherry'), type:<class 'tuple'>\n",
      "var: Hello World, type:<class 'str'>\n",
      "var: 33, type:<class 'int'>\n"
     ]
    }
   ],
   "source": [
    "# Hàm xác định kiểu dữ liệu của biến\n",
    "a = ('apple', 'banana', 'cherry')\n",
    "b = \"Hello World\"\n",
    "c = 33\n",
    "\n",
    "print(f'var: {a}, type:{type(a)}')\n",
    "print(f'var: {b}, type:{type(b)}')\n",
    "print(f'var: {c}, type:{type(c)}')\n"
   ]
  },
  {
   "cell_type": "code",
   "execution_count": 59,
   "metadata": {
    "colab": {
     "base_uri": "https://localhost:8080/"
    },
    "id": "vEiPUgSDP0-U",
    "outputId": "82e962c3-5136-4e96-fd6d-e894b53f4454",
    "scrolled": true
   },
   "outputs": [
    {
     "data": {
      "text/plain": [
       "8"
      ]
     },
     "execution_count": 59,
     "metadata": {},
     "output_type": "execute_result"
    }
   ],
   "source": [
    "# Hàm lũy thừa\n",
    "pow(2, 3)"
   ]
  },
  {
   "cell_type": "markdown",
   "metadata": {
    "id": "vuCcLnycP0-U"
   },
   "source": [
    "`round()` sử dụng để làm tròn phần thập phân"
   ]
  },
  {
   "cell_type": "code",
   "execution_count": 60,
   "metadata": {
    "colab": {
     "base_uri": "https://localhost:8080/"
    },
    "id": "pZPV-wjWP0-U",
    "outputId": "dfb40303-c91d-4143-ec63-c3d379cb0887"
   },
   "outputs": [
    {
     "name": "stdout",
     "output_type": "stream",
     "text": [
      "3.0\n",
      "3.14\n"
     ]
    }
   ],
   "source": [
    "# Hàm làm tròn\n",
    "print(round(3.14159265359, 0))\n",
    "print(round(3.14159265359, 2))"
   ]
  },
  {
   "cell_type": "code",
   "execution_count": 61,
   "metadata": {
    "colab": {
     "base_uri": "https://localhost:8080/"
    },
    "id": "YxcpWPtAP0-Y",
    "outputId": "debe69d0-3d4e-48e8-f98c-74eef3584e5d"
   },
   "outputs": [
    {
     "data": {
      "text/plain": [
       "3.4"
      ]
     },
     "execution_count": 61,
     "metadata": {},
     "output_type": "execute_result"
    }
   ],
   "source": [
    "# Tính giá trị tuyệt đối\n",
    "abs(-3.4)"
   ]
  },
  {
   "cell_type": "markdown",
   "metadata": {
    "id": "ccnamGQdI8TF"
   },
   "source": [
    "Bạn có thể tìm hiểu thêm chi tiết các hàm có sẵn trong python tại [đây](https://www.w3schools.com/python/python_ref_functions.asp)"
   ]
  },
  {
   "cell_type": "markdown",
   "metadata": {
    "id": "ge8Z9dzmP0-d"
   },
   "source": [
    "## CONTAINERS\n",
    "\n",
    "Ngoài các kiểu dữ liệu cơ bản trong Python còn một số kiểu dữ liệu dùng để chứa nhiều phần tử được gọi là các containers (lớp chứa). Các container có sẵn trong python là có sẵn là: `list`, `dict`, `set` và `tuple`."
   ]
  },
  {
   "cell_type": "markdown",
   "metadata": {
    "id": "YpQCnDvCP0-d"
   },
   "source": [
    "### list\n",
    "\n",
    "Trong Python, `list` tương tự như khái niệm mảng trong các ngôn ngữ lập trình khác, nhưng `list` trong Python có thể thay đổi kích thước và chứa các phần tử có kiểu dữ liệu khác nhau."
   ]
  },
  {
   "cell_type": "code",
   "execution_count": 62,
   "metadata": {
    "colab": {
     "base_uri": "https://localhost:8080/"
    },
    "id": "EA60-kLrP0-d",
    "outputId": "b28ac5c7-6227-4ac5-a92a-02ceed3b898d"
   },
   "outputs": [
    {
     "name": "stdout",
     "output_type": "stream",
     "text": [
      "[3, 1, 2] 2\n",
      "2\n",
      "[3, 1, 'foo']\n",
      "[3, 1, 'foo', 'bar']\n",
      "bar [3, 1, 'foo']\n"
     ]
    }
   ],
   "source": [
    "xs = [3, 1, 2]    # Create a list\n",
    "print(xs, xs[2])  # Prints \"[3, 1, 2] 2\"\n",
    "print(xs[-1])     # Negative indices count from the end of the list; prints \"2\"\n",
    "xs[2] = 'foo'     # Lists can contain elements of different types\n",
    "print(xs)         # Prints \"[3, 1, 'foo']\"\n",
    "xs.append('bar')  # Add a new element to the end of the list\n",
    "print(xs)         # Prints \"[3, 1, 'foo', 'bar']\"\n",
    "x = xs.pop()      # Remove and return the last element of the list\n",
    "print(x, xs)      # Prints \"bar [3, 1, 'foo']\""
   ]
  },
  {
   "cell_type": "markdown",
   "metadata": {
    "id": "iPXuK2tgP0-d"
   },
   "source": [
    "Bạn có thể tìm hiểu thêm chi tiết tại [đây](https://www.w3schools.com/python/python_lists_methods.asp)"
   ]
  },
  {
   "cell_type": "markdown",
   "metadata": {
    "id": "XcnNekkSP0-d"
   },
   "source": [
    "#### Slicing\n",
    "\n",
    "Ngoài việc truy cập từng phần tử của `list` , Python còn cung cấp cú pháp để truy cập các `list` con như dưới đây được gọi là `slicing`."
   ]
  },
  {
   "cell_type": "code",
   "execution_count": 63,
   "metadata": {
    "colab": {
     "base_uri": "https://localhost:8080/"
    },
    "id": "S1E-p6HcP0-d",
    "outputId": "2e8a1701-02ed-47a5-b21a-25bbc437b748"
   },
   "outputs": [
    {
     "name": "stdout",
     "output_type": "stream",
     "text": [
      "[0, 1, 2, 3, 4]\n",
      "[2, 3]\n",
      "[2, 3, 4]\n",
      "[0, 1]\n",
      "[0, 1, 2, 3, 4]\n",
      "[0, 1, 2, 3]\n",
      "[0, 1, 8, 9, 4]\n"
     ]
    }
   ],
   "source": [
    "nums = list(range(5))     # range is a built-in function that creates a list of integers\n",
    "print(nums)               # Prints \"[0, 1, 2, 3, 4]\"\n",
    "print(nums[2:4])          # Get a slice from index 2 to 4 (exclusive); prints \"[2, 3]\"\n",
    "print(nums[2:])           # Get a slice from index 2 to the end; prints \"[2, 3, 4]\"\n",
    "print(nums[:2])           # Get a slice from the start to index 2 (exclusive); prints \"[0, 1]\"\n",
    "print(nums[:])            # Get a slice of the whole list; prints \"[0, 1, 2, 3, 4]\"\n",
    "print(nums[:-1])          # Slice indices can be negative; prints \"[0, 1, 2, 3]\"\n",
    "nums[2:4] = [8, 9]        # Assign a new sublist to a slice\n",
    "print(nums)               # Prints \"[0, 1, 8, 9, 4]\""
   ]
  },
  {
   "cell_type": "markdown",
   "metadata": {
    "id": "HMRQfDsCP0-d"
   },
   "source": [
    "Slicing sẽ được đề cập lại ở phần sau, sử dụng cùng với các mảng numpy."
   ]
  },
  {
   "cell_type": "markdown",
   "metadata": {
    "id": "7n1kNrZMP0-d"
   },
   "source": [
    "#### Duyệt list\n",
    "\n",
    "Bạn có thể duyệt qua các phần tử của `list` như sau:"
   ]
  },
  {
   "cell_type": "markdown",
   "metadata": {
    "id": "h2ERELiKP0-e"
   },
   "source": [
    "C1: Dùng từ khóa `in`"
   ]
  },
  {
   "cell_type": "code",
   "execution_count": 64,
   "metadata": {
    "colab": {
     "base_uri": "https://localhost:8080/"
    },
    "id": "m9Z69mgSP0-e",
    "outputId": "3cebe250-f2de-4257-fb37-c319ea322943"
   },
   "outputs": [
    {
     "name": "stdout",
     "output_type": "stream",
     "text": [
      "[0, 1, 4, 9, 16]\n"
     ]
    }
   ],
   "source": [
    "nums = [0, 1, 2, 3, 4]\n",
    "squares = []\n",
    "for x in nums:\n",
    "    squares.append(x ** 2)\n",
    "print(squares)   # Prints [0, 1, 4, 9, 16]"
   ]
  },
  {
   "cell_type": "markdown",
   "metadata": {
    "id": "Aea9o7FwP0-e"
   },
   "source": [
    "C2: Sử dụng các kết quả của hàm `range(...)`"
   ]
  },
  {
   "cell_type": "code",
   "execution_count": 65,
   "metadata": {
    "colab": {
     "base_uri": "https://localhost:8080/"
    },
    "id": "F7puhQIEP0-f",
    "outputId": "d5653699-6e35-4e88-f13f-d4cb101ff4b6"
   },
   "outputs": [
    {
     "name": "stdout",
     "output_type": "stream",
     "text": [
      "[0, 1, 4, 9, 16]\n"
     ]
    }
   ],
   "source": [
    "nums = [0, 1, 2, 3, 4]\n",
    "squares = []\n",
    "for i in range(len(nums)):\n",
    "    squares.append(nums[i]**2)\n",
    "print(squares)"
   ]
  },
  {
   "cell_type": "code",
   "execution_count": 66,
   "metadata": {
    "colab": {
     "base_uri": "https://localhost:8080/"
    },
    "id": "z0kiHM6-P0-f",
    "outputId": "d020d013-fe7f-4105-bfcc-efbb68c77ab1"
   },
   "outputs": [
    {
     "name": "stdout",
     "output_type": "stream",
     "text": [
      "[4, 9, 16]\n"
     ]
    }
   ],
   "source": [
    "nums = [0, 1, 2, 3, 4]\n",
    "squares = []\n",
    "for i in range(2, len(nums)):\n",
    "    squares.append(nums[i]**2)\n",
    "print(squares)"
   ]
  },
  {
   "cell_type": "markdown",
   "metadata": {
    "id": "zvQrQSwcP0-f"
   },
   "source": [
    "C3: sử dụng giống cú pháp Select..From..Where như trong SQL"
   ]
  },
  {
   "cell_type": "code",
   "execution_count": 67,
   "metadata": {
    "colab": {
     "base_uri": "https://localhost:8080/"
    },
    "id": "JTG4kTK_P0-f",
    "outputId": "330edbc1-c680-4c95-8603-b27ce81ce271"
   },
   "outputs": [
    {
     "name": "stdout",
     "output_type": "stream",
     "text": [
      "[0, 1, 4, 9, 16]\n"
     ]
    }
   ],
   "source": [
    "nums = [0, 1, 2, 3, 4]\n",
    "squares = [x ** 2 for x in nums]\n",
    "print(squares)   # Prints [0, 1, 4, 9, 16]"
   ]
  },
  {
   "cell_type": "markdown",
   "metadata": {
    "id": "Eja8TdLSP0-f"
   },
   "source": [
    "Các list comprehension cũng có thể chứa các điều kiện:"
   ]
  },
  {
   "cell_type": "code",
   "execution_count": 68,
   "metadata": {
    "colab": {
     "base_uri": "https://localhost:8080/"
    },
    "id": "4W0WL7FAP0-f",
    "outputId": "cbd89a9c-b2a8-40bb-a62c-c4dc0bbb2253"
   },
   "outputs": [
    {
     "name": "stdout",
     "output_type": "stream",
     "text": [
      "[0, 4, 16]\n"
     ]
    }
   ],
   "source": [
    "nums = [0, 1, 2, 3, 4]\n",
    "even_squares = [x ** 2 for x in nums if x % 2 == 0]\n",
    "print(even_squares)  # Prints \"[0, 4, 16]\""
   ]
  },
  {
   "cell_type": "markdown",
   "metadata": {
    "id": "3IQPBugqP0-e"
   },
   "source": [
    "C4: Trong trường hợp bạn muốn truy cập đến chỉ mục của phần tử trong thân vòng lặp, sử dụng hàm dựng sẵn `enumerate`:"
   ]
  },
  {
   "cell_type": "code",
   "execution_count": 69,
   "metadata": {
    "colab": {
     "base_uri": "https://localhost:8080/"
    },
    "id": "qsn-N2eWP0-e",
    "outputId": "bf2ce860-a16f-4f6a-8904-f5c6d7645077"
   },
   "outputs": [
    {
     "name": "stdout",
     "output_type": "stream",
     "text": [
      "#1: cat\n",
      "#2: dog\n",
      "#3: monkey\n"
     ]
    }
   ],
   "source": [
    "animals = ['cat', 'dog', 'monkey']\n",
    "for idx, animal in enumerate(animals):\n",
    "    print('#%d: %s' % (idx + 1, animal))"
   ]
  },
  {
   "cell_type": "markdown",
   "metadata": {
    "id": "4tFBGUrNP0-f"
   },
   "source": [
    "### dict\n",
    "\n",
    "Một từ điển `dict` chứa cặp (key, value), tương tự như `Map` trong ngôn ngữ `Java`, trong đó các `key` là duy nhất. Bạn có thể sử dụng nó như sau:"
   ]
  },
  {
   "cell_type": "code",
   "execution_count": 70,
   "metadata": {
    "colab": {
     "base_uri": "https://localhost:8080/"
    },
    "id": "0tjO-TJqP0-f",
    "outputId": "026d1090-add8-4e35-b871-fa6b1df59a77"
   },
   "outputs": [
    {
     "name": "stdout",
     "output_type": "stream",
     "text": [
      "cute\n",
      "True\n",
      "wet\n",
      "N/A\n",
      "wet\n",
      "N/A\n"
     ]
    }
   ],
   "source": [
    "d = {'cat': 'cute', 'dog': 'furry'}  # Create a new dictionary with some data\n",
    "print(d['cat'])       # Get an entry from a dictionary; prints \"cute\"\n",
    "print('cat' in d)     # Check if a dictionary has a given key; prints \"True\"\n",
    "d['fish'] = 'wet'     # Set an entry in a dictionary\n",
    "print(d['fish'])      # Prints \"wet\"\n",
    "# print(d['monkey'])  # KeyError: 'monkey' not a key of d\n",
    "print(d.get('monkey', 'N/A'))  # Get an element with a default; prints \"N/A\"\n",
    "print(d.get('fish', 'N/A'))    # Get an element with a default; prints \"wet\"\n",
    "del d['fish']         # Remove an element from a dictionary\n",
    "print(d.get('fish', 'N/A')) # \"fish\" is no longer a key; prints \"N/A\""
   ]
  },
  {
   "cell_type": "markdown",
   "metadata": {
    "id": "-wMHalKwP0-g"
   },
   "source": [
    "Tìm hiểu thêm về `dict` tại [đây](https://www.w3schools.com/python/python_dictionaries_methods.asp)."
   ]
  },
  {
   "cell_type": "markdown",
   "metadata": {
    "id": "3cVWUMn-P0-g"
   },
   "source": [
    "#### Duyệt dict\n",
    "\n",
    "Có thể dễ dàng duyệt qua các khóa trong một từ điển:"
   ]
  },
  {
   "cell_type": "code",
   "execution_count": 71,
   "metadata": {
    "colab": {
     "base_uri": "https://localhost:8080/"
    },
    "id": "tU1HAaUIP0-g",
    "outputId": "9d6272d5-fe04-4f3f-aede-8afca45e70a6"
   },
   "outputs": [
    {
     "name": "stdout",
     "output_type": "stream",
     "text": [
      "A person has 2 legs\n",
      "A cat has 4 legs\n",
      "A spider has 8 legs\n"
     ]
    }
   ],
   "source": [
    "d = {'person': 2, 'cat': 4, 'spider': 8}\n",
    "for animal in d:\n",
    "    legs = d[animal]\n",
    "    print('A %s has %d legs' % (animal, legs))"
   ]
  },
  {
   "cell_type": "markdown",
   "metadata": {
    "id": "7whDWQKpP0-g"
   },
   "source": [
    "Nếu bạn muốn truy cập đến các khóa và các giá trị tương ứng, sử dụng phương thức `items`:"
   ]
  },
  {
   "cell_type": "code",
   "execution_count": 72,
   "metadata": {
    "colab": {
     "base_uri": "https://localhost:8080/"
    },
    "id": "Hl7XK1AKP0-g",
    "outputId": "d665e359-f522-4765-8da2-a7c78ec4a4e6"
   },
   "outputs": [
    {
     "name": "stdout",
     "output_type": "stream",
     "text": [
      "A person has 2 legs\n",
      "A cat has 4 legs\n",
      "A spider has 8 legs\n"
     ]
    }
   ],
   "source": [
    "d = {'person': 2, 'cat': 4, 'spider': 8}\n",
    "for animal, legs in d.items():\n",
    "    print('A %s has %d legs' % (animal, legs))"
   ]
  },
  {
   "cell_type": "markdown",
   "metadata": {
    "id": "KntEmIWWP0-g"
   },
   "source": [
    "Tạo dict mới từ dict có sẵn thỏa mãn một số điều kiện. Ví dụ:"
   ]
  },
  {
   "cell_type": "code",
   "execution_count": 73,
   "metadata": {
    "colab": {
     "base_uri": "https://localhost:8080/"
    },
    "id": "WJauaJ9AP0-g",
    "outputId": "06822814-7eae-42c2-d6fc-ab0544e8acfc"
   },
   "outputs": [
    {
     "name": "stdout",
     "output_type": "stream",
     "text": [
      "{0: 0, 2: 4, 4: 16}\n"
     ]
    }
   ],
   "source": [
    "nums = [0, 1, 2, 3, 4]\n",
    "even_num_to_square = {x: x ** 2 for x in nums if x % 2 == 0}\n",
    "print(even_num_to_square)  # Prints \"{0: 0, 2: 4, 4: 16}\""
   ]
  },
  {
   "cell_type": "markdown",
   "metadata": {
    "id": "LfYbQyBNP0-g"
   },
   "source": [
    "### set\n",
    "\n",
    "Một `set` là một tập hợp không xét thứ tự của các phần tử riêng biệt. Xem xét một ví dụ đơn giản sau:"
   ]
  },
  {
   "cell_type": "code",
   "execution_count": 74,
   "metadata": {
    "colab": {
     "base_uri": "https://localhost:8080/"
    },
    "id": "fJk_wjvMP0-g",
    "outputId": "dbe13db0-b4b3-4d5d-d245-6a931fc20c1e"
   },
   "outputs": [
    {
     "name": "stdout",
     "output_type": "stream",
     "text": [
      "True\n",
      "False\n",
      "True\n",
      "3\n",
      "3\n",
      "2\n"
     ]
    }
   ],
   "source": [
    "animals = {'cat', 'dog'}\n",
    "print('cat' in animals)   # Check if an element is in a set; prints \"True\"\n",
    "print('fish' in animals)  # prints \"False\"\n",
    "animals.add('fish')       # Add an element to a set\n",
    "print('fish' in animals)  # Prints \"True\"\n",
    "print(len(animals))       # Number of elements in a set; prints \"3\"\n",
    "animals.add('cat')        # Adding an element that is already in the set does nothing\n",
    "print(len(animals))       # Prints \"3\"\n",
    "animals.remove('cat')     # Remove an element from a set\n",
    "print(len(animals))       # Prints \"2\""
   ]
  },
  {
   "cell_type": "markdown",
   "metadata": {
    "id": "2ET1aN6SP0-g"
   },
   "source": [
    "Bạn có thể tìm hiểu thêm về `set` tại [đây](https://www.w3schools.com/python/python_sets_methods.asp)."
   ]
  },
  {
   "cell_type": "markdown",
   "metadata": {
    "id": "ye_f3h15P0-h"
   },
   "source": [
    "Duyệt qua `set` tương tự như duyệt qua `list`; tuy nhiên vì `set` không có thứ tự, bạn không thể truy cập các phần tử thông qua chỉ mục (`id`)"
   ]
  },
  {
   "cell_type": "code",
   "execution_count": 75,
   "metadata": {
    "colab": {
     "base_uri": "https://localhost:8080/"
    },
    "id": "EkKs1TdnP0-h",
    "outputId": "9ef92b48-4de8-406d-b393-d8abb74a8506"
   },
   "outputs": [
    {
     "name": "stdout",
     "output_type": "stream",
     "text": [
      "{'cat', 'fish', 'dog'}\n"
     ]
    }
   ],
   "source": [
    "animals = {'cat', 'dog', 'fish'}\n",
    "print(animals)"
   ]
  },
  {
   "cell_type": "code",
   "execution_count": 76,
   "metadata": {
    "colab": {
     "base_uri": "https://localhost:8080/",
     "height": 194
    },
    "id": "k_vC9yW5DM6Y",
    "outputId": "97808c05-7941-4380-ee62-161c31d954fa"
   },
   "outputs": [
    {
     "ename": "TypeError",
     "evalue": "'set' object is not subscriptable",
     "output_type": "error",
     "traceback": [
      "\u001b[1;31m---------------------------------------------------------------------------\u001b[0m",
      "\u001b[1;31mTypeError\u001b[0m                                 Traceback (most recent call last)",
      "Cell \u001b[1;32mIn[76], line 2\u001b[0m\n\u001b[0;32m      1\u001b[0m \u001b[38;5;66;03m# This statement will raise error\u001b[39;00m\n\u001b[1;32m----> 2\u001b[0m \u001b[43manimals\u001b[49m\u001b[43m[\u001b[49m\u001b[38;5;241;43m1\u001b[39;49m\u001b[43m]\u001b[49m\n",
      "\u001b[1;31mTypeError\u001b[0m: 'set' object is not subscriptable"
     ]
    }
   ],
   "source": [
    "# This statement will raise error\n",
    "animals[1]"
   ]
  },
  {
   "cell_type": "code",
   "execution_count": 77,
   "metadata": {
    "colab": {
     "base_uri": "https://localhost:8080/"
    },
    "id": "o5537IOaDje2",
    "outputId": "66ac02a3-175a-4b7c-e509-613fa4afff27"
   },
   "outputs": [
    {
     "name": "stdout",
     "output_type": "stream",
     "text": [
      "cat\n",
      "fish\n",
      "dog\n"
     ]
    }
   ],
   "source": [
    "# Duyệt bằng toán tử in\n",
    "for a in animals:\n",
    "  print(a)"
   ]
  },
  {
   "cell_type": "code",
   "execution_count": 78,
   "metadata": {
    "colab": {
     "base_uri": "https://localhost:8080/"
    },
    "id": "6pnlgIUzD6Fw",
    "outputId": "dd6a8049-4910-4b5c-fbad-906f5efed31b"
   },
   "outputs": [
    {
     "name": "stdout",
     "output_type": "stream",
     "text": [
      "#1: cat\n",
      "#2: fish\n",
      "#3: dog\n"
     ]
    }
   ],
   "source": [
    "# Duyệt sử dụng hàm `enumerate()`\n",
    "for idx, animal in enumerate(animals):\n",
    "    print('#%d: %s' % (idx + 1, animal))"
   ]
  },
  {
   "cell_type": "code",
   "execution_count": 79,
   "metadata": {
    "colab": {
     "base_uri": "https://localhost:8080/"
    },
    "id": "c2MAqZlUP0-i",
    "outputId": "3d982efa-cdfd-4584-c882-77a0dd7faa30"
   },
   "outputs": [
    {
     "name": "stdout",
     "output_type": "stream",
     "text": [
      "{0, 1, 2, 3, 4, 5}\n"
     ]
    }
   ],
   "source": [
    "# Cách khác\n",
    "from math import sqrt\n",
    "\n",
    "nums = {int(sqrt(x)) for x in range(30)}\n",
    "print(nums)  # Prints \"{0, 1, 2, 3, 4, 5}\""
   ]
  },
  {
   "cell_type": "markdown",
   "metadata": {
    "id": "WoxW3yh5P0-i"
   },
   "source": [
    "### tuple\n",
    "Một tuple là một danh sách có thứ tự của các phần tử và danh sách này không thay đổi được. Một `tuple` có nhiều điểm tương tự như `list`; điểm khác biệt quan trọng nhất là `tuple` có thể được dùng như các khóa của `dict` hay các phần tử của `set`, `list` thì không thể. Sau đây là một ví dụ:"
   ]
  },
  {
   "cell_type": "code",
   "execution_count": 80,
   "metadata": {
    "colab": {
     "base_uri": "https://localhost:8080/"
    },
    "id": "zB8hNIwZP0-i",
    "outputId": "f77270a2-ab88-4bfd-d397-2af3bc5912ee"
   },
   "outputs": [
    {
     "name": "stdout",
     "output_type": "stream",
     "text": [
      "<class 'tuple'>\n",
      "5\n",
      "1\n"
     ]
    }
   ],
   "source": [
    "d = {(x, x + 1): x for x in range(10)}  # Create a dictionary with tuple keys\n",
    "t = (5, 6)        # Create a tuple\n",
    "print(type(t))    # Prints \"<class 'tuple'>\"\n",
    "print(d[t])       # Prints \"5\"\n",
    "print(d[(1, 2)])  # Prints \"1\""
   ]
  },
  {
   "cell_type": "markdown",
   "metadata": {
    "id": "9t0NtSzwP0-j"
   },
   "source": [
    "Tài liệu chi tiết về `tuple` có thể xem tại [đây](https://www.w3schools.com/python/python_tuples.asp)."
   ]
  },
  {
   "cell_type": "markdown",
   "metadata": {
    "id": "arm_LY5EP0-P"
   },
   "source": [
    "---\n",
    "\n",
    "## TÓM TẮT"
   ]
  },
  {
   "cell_type": "markdown",
   "metadata": {
    "id": "3WpfNcDnP0-P"
   },
   "source": [
    "- Kiểu dữ liệu cơ bản\n",
    "\n",
    "    | Type | Description |\n",
    "    |----|---|\n",
    "    | int  | Integer |\n",
    "    | float  | Floating-point number |\n",
    "    | str  | String |\n",
    "    | bool  | Boolean (True or False) |"
   ]
  },
  {
   "cell_type": "markdown",
   "metadata": {},
   "source": [
    "- Các toán tử\n",
    "\n",
    "    | Toán tử | Ghi chú |\n",
    "    |----|---|\n",
    "    | +  | cộng |\n",
    "    | -  | trừ |\n",
    "    | /  | chia |\n",
    "    | //  | chia lấy phần nguyên |\n",
    "    | *  | nhân |\n",
    "    | %  | chia lấy phần dư |\n",
    "    | **  | lũy thừa |\n",
    "\n"
   ]
  },
  {
   "cell_type": "markdown",
   "metadata": {},
   "source": [
    "- Luồng điều khiển\n",
    "  - Câu lệnh lựa chọn (`if, if-else, if-elif-else`)\n",
    "  - Câu lệnh lặp (`while, for`)\n",
    "  - Hàm\n",
    "\n"
   ]
  },
  {
   "cell_type": "markdown",
   "metadata": {},
   "source": [
    "- Các lớp chứa (containers)\n",
    "  - `list`\n",
    "  - `dict`\n",
    "  - `set`\n",
    "  - `tuple`\n",
    "\n"
   ]
  },
  {
   "cell_type": "markdown",
   "metadata": {},
   "source": [
    "- Các hàm thông dụng (built-in funciton)\n",
    "\n",
    "\n",
    "    | Hàm | Ghi chú |\n",
    "    |----|---|\n",
    "    | len()  | lấy độ dài |\n",
    "    | type()  | xem kiểu dữ liệu |\n",
    "    | range()  | trả về dãy số có thứ tự|\n",
    "    | str()  | ép kiểu sang kiểu chuỗi |\n",
    "    | pow()  | lũy thừa |\n",
    "    | round() | làm tròn |\n",
    "    | abs()  | tính trị tuyệt đối |"
   ]
  },
  {
   "cell_type": "markdown",
   "metadata": {
    "id": "J2wj-R7pP0-P"
   },
   "source": [
    "---\n",
    "\n",
    "## THAM KHẢO\n",
    "\n",
    "Tài liệu sẽ hướng dẫn các chủ đề cần thiết để phục vụ môn học, nếu có nhu cầu tìm hiểu và học thêm các bạn có thể tham khảo từ các nguồn sau:\n",
    "\n",
    "- [The Python Tutorial](https://docs.python.org/3/tutorial/index.html) (official)\n",
    "- [W3School Python](https://www.w3schools.com/python/default.asp)\n",
    "- [Tutorialspoint](https://www.tutorialspoint.com/python/index.htm)\n",
    "\n",
    "<br/>\n",
    "\n",
    "---"
   ]
  },
  {
   "cell_type": "markdown",
   "metadata": {},
   "source": [
    "## BÀI TẬP\n",
    "\n",
    "1. In toàn bộ các số chẵn từ 1000 đến 2000\n"
   ]
  },
  {
   "cell_type": "markdown",
   "metadata": {},
   "source": [
    "2. Viết chương trình tìm tất cả các số chia hết cho 7 nhưng không phải bội số của 5, nằm trong đoạn 2000 và 3200 (tính cả 2000 và 3200). Các số thu được sẽ được in thành chuỗi trên một dòng, cách nhau bằng dấu phẩy"
   ]
  },
  {
   "cell_type": "markdown",
   "metadata": {},
   "source": [
    "3. Với số nguyên n nhất định, hãy viết chương trình hiển thị dictionary chứa các cặp (i, i*i) ; biết i có giá trị từ 1..n\n"
   ]
  },
  {
   "cell_type": "markdown",
   "metadata": {},
   "source": [
    "4. Viết chương trình chấp nhận một chuỗi số, phân tách bằng dấu phẩy từ giao diện điều khiển, tạo ra một List và một tuple chứa mọi số.\n",
    "\n",
    "    Ví dụ:\n",
    "\n",
    "    ```\n",
    "    Đầu vào được cung cấp là '34,67,55,33,12,98' thì đầu ra là:\n",
    "\n",
    "    [34, 67, 55, 33, 12, 98]\n",
    "    (34, 67, 55, 33, 12, 98)\n",
    "    ```\n"
   ]
  },
  {
   "cell_type": "markdown",
   "metadata": {},
   "source": [
    "5. Viết chương trình hỏi người dùng một số tự nhiên n và in ra tất cả ước số của con số đó."
   ]
  },
  {
   "cell_type": "markdown",
   "metadata": {},
   "source": [
    "6. Viết chương trình Python tính tổng các phần tử của một danh sách."
   ]
  },
  {
   "cell_type": "markdown",
   "metadata": {},
   "source": [
    "7. Nhập vào một list L có các phần tử bao gồm chuỗi và số nguyên, hãy tìm và in ra chuỗi có độ dài lớn nhất và số nguyên có giá trị nhỏ nhất"
   ]
  },
  {
   "cell_type": "markdown",
   "metadata": {},
   "source": [
    "8. Viết hàm đưa vào 1 list số nguyên L và 1 số nguyên dương a. Hãy tính và trả về giá trị trung bình của a phần tử đầu tiên trong L"
   ]
  },
  {
   "cell_type": "markdown",
   "metadata": {},
   "source": [
    "9. Viết hàm nhận vào một danh sách các số nguyên. Hãy viết hàm trả về một danh sách gồm các số không trùng nhau trong danh sách ban đầu"
   ]
  },
  {
   "cell_type": "markdown",
   "metadata": {},
   "source": [
    "10. Viết hàm có tham số đầu vào là một list L có các phần tử là chuỗi. Hãy tạo ra một dictionary D mã hóa, với mỗi một phần tử trong L được mã hóa thành một con số (theo thứ tự từ 0 tăng dần lên 1 đơn vị). Sau đó trả về list đã được mã hóa\n",
    "\n",
    "    Ví dụ:\n",
    "\n",
    "    ```\n",
    "    Cho L = [\"đen\",\"vàng\",\"xanh\",\"vàng\",\"xanh\",\"đỏ\",\"hồng\"]\n",
    "\n",
    "    Xây dựng dictionary mã hóa:\n",
    "    D = {'đen':0,'vàng':1,'xanh':2,'đỏ':3,'hồng':4}\n",
    "\n",
    "    Trả về List mã hóa:\n",
    "    L_mahoa = [0, 1, 2, 1, 2, 3, 4]\n",
    "    ```"
   ]
  },
  {
   "cell_type": "markdown",
   "metadata": {},
   "source": [
    "11. Viết hàm kết hợp hai dictionary dựa vào key như sau:\n",
    "\n",
    "    ```python\n",
    "    d1 = {'a': 100, 'b': 200, 'c':300}\n",
    "    d2 = {'a': 300, 'b': 200, 'd':400}\n",
    "    Counter({'a': 400, 'b': 400, 'd': 400, 'c': 300})\n",
    "    ```"
   ]
  }
 ],
 "metadata": {
  "colab": {
   "provenance": [],
   "toc_visible": true
  },
  "kernelspec": {
   "display_name": "Python 3 (ipykernel)",
   "language": "python",
   "name": "python3"
  },
  "language_info": {
   "codemirror_mode": {
    "name": "ipython",
    "version": 3
   },
   "file_extension": ".py",
   "mimetype": "text/x-python",
   "name": "python",
   "nbconvert_exporter": "python",
   "pygments_lexer": "ipython3",
   "version": "3.11.5"
  }
 },
 "nbformat": 4,
 "nbformat_minor": 4
}
