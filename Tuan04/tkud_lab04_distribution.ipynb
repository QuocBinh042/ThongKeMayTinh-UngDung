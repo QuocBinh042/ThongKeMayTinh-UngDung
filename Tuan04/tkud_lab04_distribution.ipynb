{
 "cells": [
  {
   "cell_type": "markdown",
   "metadata": {},
   "source": [
    "# Phân Phối Xác Suất (PPXS)\n",
    "\n",
    "Xác Suất là đại lượng dùng để đo khả năng xảy ra của một sự kiện (event), xác suất có giá trị từ 0 đến 1. Khi làm việc với tập dữ liệu, chúng ta thường có nhu cầu tìm hiểu xem các thuộc tính (trường) dữ liệu có tuân theo quy luật gì hay không, có thể dự đoán được giá trị của thuộc tính đó hay không, giá trị nào xảy ra nhiều, giá trị nào xảy ra ít?... Để trả lời câu hỏi này chúng ta có thể dựa vào hình dạng phân phối của thuộc tính dữ liệu xem nó có hình dạng nào *đặc biệt* hay không? Trong thống kê, các nhà khoa học đã giả định các đặc trưng dữ liệu là các *biến ngẫu nhiên* và tìm hiểu khả năng xuất hiện các giá trị của chúng. Khái niệm **Phân Phối Xác Xuất (PPSX)** thể hiện xác suất xuất hiện của các giá trị của biến ngẫu nhiên. \n",
    "\n",
    "Có rất nhiều PPSX được tìm ra, mỗi loại được phân biệt dựa vào tính chất của biến ngẫu nhiên hoặc phép thử. Khi hiểu được tính chất một số loại PPSX rồi, các bạn có thể so sánh xem thuộc tính dữ liệu mà mình đang tìm hiểu có giống với một PPXS nào hay không? \n",
    "\n",
    "Trong nội dung của bài viết này chúng ta chỉ khảo sát một số phân phối tiêu biểu.\n",
    "\n",
    "Trong Thống Kê, có rất nhiều PPXS, mỗi PPXS có hình dáng đồ thị khác nhau dùng để mô hình hóa các đại lượng ngẫu nhiên khác nhau. Trong nội dung này chúng ta sẽ khảo sát một số PPXS như: \n",
    "\n",
    "- Phân phối Nhị Thức\n",
    "- Phân phối Chuẩn\n",
    "\n",
    "## NỘI DUNG\n",
    "\n",
    "1. THƯ VIỆN `scipy.stats`\n",
    "2. HÀM THÔNG DỤNG\n",
    "3. CÁC PHÂN PHỐI XÁC SUẤT\n",
    "- Phân Phối Nhị Thức\n",
    "- Phân Phối Chuẩn\n",
    "---\n"
   ]
  },
  {
   "cell_type": "markdown",
   "metadata": {},
   "source": [
    "## 1.THƯ VIỆN `scipy.stats`\n",
    "\n",
    "Để sử dụng các phân phối này ta sử dụng thư viện **<scipy.stats>** để nạp phân phối muốn dùng.\n",
    "\n",
    "STT | Scipy Package | Distribution Name | Tên Phân Phối | Ký hiệu\n",
    "--- | ------------- | ----------------- | ------------- | -------\n",
    "1 | binom | Binomial Distribution | Phân Phối Nhị Thức | B(n, p)\n",
    "2 | poisson | Poisson Distribution | Phân Phối Poisson | $P({\\lambda})$\n",
    "3 | norm | Normal Distribution / Gauss Distribution | Phân Phối Chuẩn | $N({\\mu}, {\\sigma}^2)$\n",
    "4 | t | Student Distribution | Phân Phối Student | T\n",
    "5 | chi2 | Chi Square Distribution | Phân Phối Chi Bình Phương | ${\\chi}^2$\n",
    "\n"
   ]
  },
  {
   "cell_type": "markdown",
   "metadata": {},
   "source": [
    "Nạp các thư viện"
   ]
  },
  {
   "cell_type": "code",
   "execution_count": 2,
   "metadata": {},
   "outputs": [],
   "source": [
    "# Import các thư viện thông dụng\n",
    "import numpy as np\n",
    "import pandas as pd\n",
    "import matplotlib.pyplot as plt\n",
    "\n",
    "# Import các distribution packages từ thư viện scipy\n",
    "from scipy.stats import binom\n",
    "from scipy.stats import poisson\n",
    "from scipy.stats import norm\n",
    "from scipy.stats import t"
   ]
  },
  {
   "cell_type": "markdown",
   "metadata": {},
   "source": [
    "## 2.HÀM THÔNG DỤNG\n",
    "\n",
    "Function | Function Details | Ý nghĩa\n",
    "-------- | ---------------- | -------\n",
    "rvs |  Random Variates | Tạo mẫu ngẫu nhiên từ phân phối\n",
    "pmf | Probability Mass Function | Hàm độ lớn **f(x)** cho phân phối rời rạc\n",
    "pdf | Probability Density Function | Hàm mật độ **f(x)** cho phân phối liên tục\n",
    "cdf | Cumulative Distribution Function | Hàm phân Phối Tích Lũy **F(x)**\n",
    "ppf | Percent Point Function (Inverse of CDF) | Tìm điểm phân vị\n",
    "sf | Survival Function (SF = 1-CDF) | Hàm Survival\n",
    "isf | Inverse of survival function | Hàm ngược của hàm Survival\n"
   ]
  },
  {
   "cell_type": "markdown",
   "metadata": {},
   "source": [
    "## 3. CÁC PHÂN PHỐI XÁC SUẤT"
   ]
  },
  {
   "cell_type": "markdown",
   "metadata": {},
   "source": [
    "### 3.1 Phân Phối Nhị Thức (Binomial)"
   ]
  },
  {
   "cell_type": "markdown",
   "metadata": {},
   "source": [
    "#### Phát sinh mẫu"
   ]
  },
  {
   "cell_type": "markdown",
   "metadata": {},
   "source": [
    "<u>*Ví dụ:*</u> Một bài thi trắc nghiệm bao gồm 10 câu, mỗi câu có 4 lựa chọn. Giả sử bạn không học bài và đánh lụi tất cả các câu hỏi. Có thể rằng giả định rằng xác suất lựa chọn các đáp án là như nhau và sự lựa chọn đáp án ở một câu hỏi không bị ảnh hưởng bởi các câu hỏi khác.\n",
    "\n",
    "Nếu gọi X là biến ngẫu nhiên thể hiện số câu trả lời đúng, thì X sẽ có phân phối nhị thức (**X ~ B(n, p)**. Ta có thể mô phỏng giá trị của X như sau:"
   ]
  },
  {
   "cell_type": "code",
   "execution_count": 2,
   "metadata": {},
   "outputs": [],
   "source": [
    "# Số câu hỏi và xác suất lựa chọn đáp án đúng ở một câu trả lời\n",
    "n, p = 10, 0.25"
   ]
  },
  {
   "cell_type": "code",
   "execution_count": 5,
   "metadata": {},
   "outputs": [
    {
     "data": {
      "text/plain": [
       "2"
      ]
     },
     "execution_count": 5,
     "metadata": {},
     "output_type": "execute_result"
    }
   ],
   "source": [
    "# Phát sinh ngẫu nhiên số câu đúng\n",
    "binom.rvs(n, p)"
   ]
  },
  {
   "cell_type": "markdown",
   "metadata": {},
   "source": [
    "Nếu lớp học có 10 bạn, thì có thể mô phỏng kết quả kiểm tra của lớp như sau:"
   ]
  },
  {
   "cell_type": "code",
   "execution_count": 7,
   "metadata": {},
   "outputs": [
    {
     "data": {
      "text/plain": [
       "array([1, 1, 2, 2, 3, 5, 2, 2, 2, 1])"
      ]
     },
     "execution_count": 7,
     "metadata": {},
     "output_type": "execute_result"
    }
   ],
   "source": [
    "bi_sam_10 = binom.rvs(n, p, size=10)\n",
    "bi_sam_10"
   ]
  },
  {
   "cell_type": "code",
   "execution_count": 8,
   "metadata": {},
   "outputs": [
    {
     "data": {
      "text/plain": [
       "1    3\n",
       "2    5\n",
       "3    1\n",
       "5    1\n",
       "Name: Số câu đúng, dtype: int64"
      ]
     },
     "execution_count": 8,
     "metadata": {},
     "output_type": "execute_result"
    }
   ],
   "source": [
    "# Lập bảng phân phối tần số thống kê số lượng câu trả lời đúng.\n",
    "pd.Series(data=bi_sam_10, name='Số câu đúng').value_counts().sort_index()"
   ]
  },
  {
   "cell_type": "code",
   "execution_count": 9,
   "metadata": {},
   "outputs": [
    {
     "data": {
      "image/png": "[encoded data removed]",
      "text/plain": [
       "<Figure size 432x288 with 1 Axes>"
      ]
     },
     "metadata": {
      "needs_background": "light"
     },
     "output_type": "display_data"
    }
   ],
   "source": [
    "plt.hist(bi_sam_10)\n",
    "plt.show()"
   ]
  },
  {
   "cell_type": "markdown",
   "metadata": {},
   "source": [
    "#### Vẽ histogram"
   ]
  },
  {
   "cell_type": "code",
   "execution_count": 10,
   "metadata": {},
   "outputs": [
    {
     "data": {
      "text/plain": [
       "0     51\n",
       "1    180\n",
       "2    258\n",
       "3    276\n",
       "4    144\n",
       "5     71\n",
       "6     15\n",
       "7      2\n",
       "8      3\n",
       "Name: Số câu đúng, dtype: int64"
      ]
     },
     "execution_count": 10,
     "metadata": {},
     "output_type": "execute_result"
    }
   ],
   "source": [
    "# Phát sinh mẫu kích thước 1000 theo phân phối Nhị Thức\n",
    "bi_sam_1000 = binom.rvs(n, p, size=1000)\n",
    "freq_table = pd.Series(data=bi_sam_1000, name='Số câu đúng').value_counts().sort_index()\n",
    "freq_table"
   ]
  },
  {
   "cell_type": "code",
   "execution_count": 11,
   "metadata": {},
   "outputs": [
    {
     "data": {
      "image/png": "[encoded data removed]",
      "text/plain": [
       "<Figure size 432x288 with 1 Axes>"
      ]
     },
     "metadata": {
      "needs_background": "light"
     },
     "output_type": "display_data"
    }
   ],
   "source": [
    "# Vẽ histogram\n",
    "plt.hist(bi_sam_1000)\n",
    "plt.show()"
   ]
  },
  {
   "cell_type": "markdown",
   "metadata": {},
   "source": [
    "<u>**Nhận xét:**</u> Trong đồ thị histogram ở trên, các cột có vị trí không hoàn toàn chính xác. Lý do là vì *matplotlib* tính toán tự động số cột (bins) và vị trí các cột một cách tự động dựa vào giới hạn giá trị trên trục hoành (xlim). Vì vậy, ta thay đổi một số tham số sau để có đồ thị hiển thị tốt hơn:\n",
    "- `bins=np.arange(11)` chọn 11 cột vì các giá trị số câu đúng từ 0..10\n",
    "- `dorongcot=0.4` độ rộng cột (mặc định là 0.8 inches)\n",
    "- `offset=dorongcot/2` dùng để dịch chuyển vị trí của cột ngay giữa điểm dữ liệu (tick)\n",
    "- Thêm tiêu đề cho đồ thị, trục hoành, trục tung"
   ]
  },
  {
   "cell_type": "code",
   "execution_count": 12,
   "metadata": {},
   "outputs": [
    {
     "data": {
      "image/png": "[encoded data removed]",
      "text/plain": [
       "<Figure size 432x288 with 1 Axes>"
      ]
     },
     "metadata": {
      "needs_background": "light"
     },
     "output_type": "display_data"
    }
   ],
   "source": [
    "dorongcot = 0.4\n",
    "offset = dorongcot/2\n",
    "\n",
    "# Vẽ histogram của bi_sam_1000\n",
    "plt.hist(bi_sam_1000, bins=np.arange(11)-offset, width=dorongcot)\n",
    "plt.xticks(range(11))  # hiển thị danh sách các ticks trên trục hoành\n",
    "\n",
    "# Nối đỉnh các cột lại bằng các đường nét đứt ls='--' (linestyle)\n",
    "                        #, và nối các điểm đầu mỗi cột marker='o'\n",
    "plt.plot(freq_table.index, freq_table, color='y', ls='--', marker='o')\n",
    "\n",
    "plt.xlabel('Số câu đúng')\n",
    "plt.ylabel('Tần số')\n",
    "plt.title('TẦN SỐ XUẤT HIỆN SỐ CÂU ĐÚNG')\n",
    "\n",
    "plt.show()"
   ]
  },
  {
   "cell_type": "markdown",
   "metadata": {},
   "source": [
    "#### Vẽ hàm độ lớn (pmf)"
   ]
  },
  {
   "cell_type": "markdown",
   "metadata": {},
   "source": [
    "Vì phân phối nhị thức là phân phối rời rạc nên số lượng các câu đúng cũng mang giá trị rời rạc từ 0..10. Ta sẽ tạo một mảng x mang các giá trị từ 0..10, và một mảng y là giá trị xác suất suất hiện tương ứng với từng giá trị của mảng x theo phân phối nhị thức"
   ]
  },
  {
   "cell_type": "code",
   "execution_count": 10,
   "metadata": {},
   "outputs": [
    {
     "name": "stdout",
     "output_type": "stream",
     "text": [
      "x:  range(0, 11)\n",
      "y:  [5.63135147e-02 1.87711716e-01 2.81567574e-01 2.50282288e-01\n",
      " 1.45998001e-01 5.83992004e-02 1.62220001e-02 3.08990479e-03\n",
      " 3.86238098e-04 2.86102295e-05 9.53674316e-07]\n"
     ]
    }
   ],
   "source": [
    "x = range(11)\n",
    "y = binom.pmf(x, n, p)\n",
    "print('x: ', x)\n",
    "print('y: ', y)"
   ]
  },
  {
   "cell_type": "code",
   "execution_count": 11,
   "metadata": {},
   "outputs": [
    {
     "data": {
      "image/png": "[encoded data removed]",
      "text/plain": [
       "<Figure size 432x288 with 1 Axes>"
      ]
     },
     "metadata": {
      "needs_background": "light"
     },
     "output_type": "display_data"
    }
   ],
   "source": [
    "# Vẽ scatter\n",
    "plt.scatter(x, y, color='b')\n",
    "\n",
    "# Vẽ các đường đứt nét để dễ nhìn\n",
    "for value in x:\n",
    "    plt.plot([value, value], [0, y[value]], color='orange', ls='--')\n",
    "\n",
    "plt.xticks(x)\n",
    "plt.xlabel('Giá trị')\n",
    "plt.ylabel('Xác suất')\n",
    "plt.title('HÀM ĐỘ LỚN PHÂN PHỐI NHỊ THỨC')\n",
    "\n",
    "plt.show()"
   ]
  },
  {
   "cell_type": "markdown",
   "metadata": {},
   "source": [
    "**Bình luận**\n",
    "- Nếu sử dụng các đường nối các điểm sẽ dễ gây hiểu nhầm là đồ thị cho hàm liên tục, nghĩa là hàm độ lớn sẽ có giá trị tại các điểm mang giá trị không nguyên.\n",
    "- Đồ thị này có hình dáng giống như đồ thị histogram vẽ từ 1000 phần tử được phát sinh. Trên thực tế, nếu một biến ngẫu nhiên mang phân phối nhị thức thì đồ thị phân phối tần số (histogram) vẽ từ một mẫu thu nhận được sẽ có hình dáng gần giống như đồ thị vẽ từ hàm độ lớn của phân phối này."
   ]
  },
  {
   "cell_type": "markdown",
   "metadata": {},
   "source": [
    "#### Vẽ hàm phân phối tích luỹ (cdf)\n",
    "\n",
    "Hàm phân phối tích luỹ được định nghĩa: **F(x) = P(X $\\leq$ x)**\n",
    "\n",
    "Ta thử vẽ đồ thị hàm phân phối tích luỹ cho hàm phân phối nhị thức và đặt cạnh  đồ thị hàm độ lớn để dễ so sánh."
   ]
  },
  {
   "cell_type": "code",
   "execution_count": 12,
   "metadata": {},
   "outputs": [
    {
     "name": "stdout",
     "output_type": "stream",
     "text": [
      "[0.05631351 0.24402523 0.5255928  0.77587509 0.92187309 0.98027229\n",
      " 0.99649429 0.9995842  0.99997044 0.99999905 1.        ]\n"
     ]
    }
   ],
   "source": [
    "xs_tich_luy = binom.cdf(x, n, p)\n",
    "print(xs_tich_luy)"
   ]
  },
  {
   "cell_type": "code",
   "execution_count": 13,
   "metadata": {},
   "outputs": [
    {
     "data": {
      "image/png": "[encoded data removed]",
      "text/plain": [
       "<Figure size 864x288 with 2 Axes>"
      ]
     },
     "metadata": {
      "needs_background": "light"
     },
     "output_type": "display_data"
    }
   ],
   "source": [
    "# Vẽ đồ thị có kích thước 12x4 (inches), gồm 2 đồ thị con (axes) nằm cùng một hàng\n",
    "fig, axes = plt.subplots(1, 2, figsize=(12, 4))\n",
    "\n",
    "# Vẽ hàm độ lớn (pmf)\n",
    "axes[0].scatter(x, y, color='b')\n",
    "\n",
    "for value in x:\n",
    "    axes[0].plot([value, value], [0, y[value]], color='orange', ls='--')\n",
    "\n",
    "axes[0].set(xlabel='Giá trị', title='PMF')\n",
    "\n",
    "# Vẽ hàm phân phối tích luỹ (cdf)\n",
    "axes[1].plot(x, xs_tich_luy, marker='o') # Thêm marker cho dễ nhìn\n",
    "axes[1].set(xlabel='Giá trị', title='CDF')\n",
    "\n",
    "plt.show()"
   ]
  },
  {
   "cell_type": "markdown",
   "metadata": {},
   "source": [
    "### 3.2 Phân Phối Poisson\n",
    "\n",
    "Phân phối Poisson thường dùng để tính xác suất của một số sự kiện xảy ra trong một khoảng thời gian. Chúng ta sẽ khởi tạo ngẫu nhiên mẫu có phân phối Poisson và vẽ đồ thị hàm độ lớn của phần phối này."
   ]
  },
  {
   "cell_type": "markdown",
   "metadata": {},
   "source": [
    "#### Phát sinh mẫu"
   ]
  },
  {
   "cell_type": "code",
   "execution_count": 14,
   "metadata": {},
   "outputs": [],
   "source": [
    "# Khởi tạo mẫu có 10000 phần tử có phân phối Poisson\n",
    "lamda = 1\n",
    "poi_sam_10K = poisson.rvs(size=10000, mu=lamda)"
   ]
  },
  {
   "cell_type": "code",
   "execution_count": 15,
   "metadata": {},
   "outputs": [
    {
     "data": {
      "text/plain": [
       "0    3704\n",
       "1    3684\n",
       "2    1804\n",
       "3     617\n",
       "4     154\n",
       "5      32\n",
       "6       4\n",
       "7       1\n",
       "Name: Số câu đúng, dtype: int64"
      ]
     },
     "execution_count": 15,
     "metadata": {},
     "output_type": "execute_result"
    }
   ],
   "source": [
    "freq_table = pd.Series(data=poi_sam_10K, name='Số câu đúng').value_counts().sort_index()\n",
    "freq_table"
   ]
  },
  {
   "cell_type": "markdown",
   "metadata": {},
   "source": [
    "#### Vẽ histogram"
   ]
  },
  {
   "cell_type": "code",
   "execution_count": 16,
   "metadata": {},
   "outputs": [
    {
     "data": {
      "image/png": "[encoded data removed]",
      "text/plain": [
       "<Figure size 432x288 with 1 Axes>"
      ]
     },
     "metadata": {
      "needs_background": "light"
     },
     "output_type": "display_data"
    }
   ],
   "source": [
    "dorongcot=0.4\n",
    "offset = dorongcot/2  # Dùng để hiển thị ngay dấu ticks\n",
    "\n",
    "plt.hist(poi_sam_10K-offset, bins=max(freq_table.index), width=dorongcot)\n",
    "\n",
    "plt.ylabel('Tần số')\n",
    "plt.xlabel('x')\n",
    "plt.title('HISTOGRAM')\n",
    "\n",
    "plt.show()"
   ]
  },
  {
   "cell_type": "code",
   "execution_count": 17,
   "metadata": {},
   "outputs": [],
   "source": [
    "# Khởi tạo mẫu có 10000 phần tử có phân phối Poisson\n",
    "lamda = 10\n",
    "poi_sam_10K_another = poisson.rvs(size=10000, mu=lamda)\n",
    "freq_table = pd.Series(data=poi_sam_10K_another, name='Số câu đúng').value_counts().sort_index()"
   ]
  },
  {
   "cell_type": "code",
   "execution_count": 18,
   "metadata": {},
   "outputs": [
    {
     "data": {
      "image/png": "[encoded data removed]",
      "text/plain": [
       "<Figure size 432x288 with 1 Axes>"
      ]
     },
     "metadata": {
      "needs_background": "light"
     },
     "output_type": "display_data"
    }
   ],
   "source": [
    "dorongcot=0.4\n",
    "offset = dorongcot/2  # Dùng để hiển thị ngay dấu ticks\n",
    "\n",
    "plt.hist(poi_sam_10K_another-offset, bins=max(freq_table.index), width=dorongcot)\n",
    "\n",
    "plt.ylabel('Tần số')\n",
    "plt.xlabel('x')\n",
    "plt.title('HISTOGRAM')\n",
    "\n",
    "plt.show()"
   ]
  },
  {
   "cell_type": "markdown",
   "metadata": {},
   "source": [
    "#### Vẽ hàm độ lớn (pmf)"
   ]
  },
  {
   "cell_type": "code",
   "execution_count": 19,
   "metadata": {},
   "outputs": [
    {
     "name": "stdout",
     "output_type": "stream",
     "text": [
      "x:  range(0, 30)\n",
      "y:  [4.53999298e-05 4.53999298e-04 2.26999649e-03 7.56665496e-03\n",
      " 1.89166374e-02 3.78332748e-02 6.30554580e-02 9.00792257e-02\n",
      " 1.12599032e-01 1.25110036e-01 1.25110036e-01 1.13736396e-01\n",
      " 9.47803301e-02 7.29079462e-02 5.20771044e-02 3.47180696e-02\n",
      " 2.16987935e-02 1.27639962e-02 7.09110899e-03 3.73216263e-03\n",
      " 1.86608131e-03 8.88610150e-04 4.03913704e-04 1.75614654e-04\n",
      " 7.31727725e-05 2.92691090e-05 1.12573496e-05 4.16938875e-06\n",
      " 1.48906741e-06 5.13471521e-07]\n"
     ]
    }
   ],
   "source": [
    "x = range(30)\n",
    "y = poisson.pmf(x, mu=10)\n",
    "print('x: ', x)\n",
    "print('y: ', y)"
   ]
  },
  {
   "cell_type": "code",
   "execution_count": 20,
   "metadata": {},
   "outputs": [
    {
     "data": {
      "image/png": "[encoded data removed]",
      "text/plain": [
       "<Figure size 576x288 with 1 Axes>"
      ]
     },
     "metadata": {
      "needs_background": "light"
     },
     "output_type": "display_data"
    }
   ],
   "source": [
    "plt.subplots(figsize=(8, 4))\n",
    "\n",
    "# Vẽ scatter\n",
    "plt.scatter(x, y, color='red')\n",
    "\n",
    "# Vẽ các đường đứt nét để dễ nhìn\n",
    "for value in x:\n",
    "    plt.plot([value, value], [0, y[value]], color='green', ls='--')\n",
    "\n",
    "plt.xticks(x)\n",
    "plt.xlabel('Giá trị')\n",
    "plt.ylabel('Xác suất')\n",
    "plt.title('HÀM ĐỘ LỚN PHÂN PHỐI POISSON')\n",
    "\n",
    "plt.show()"
   ]
  },
  {
   "cell_type": "markdown",
   "metadata": {},
   "source": [
    "**CÂU HỎI** Bạn có nhận xét gì về đồ thị ở hình trên hay không"
   ]
  },
  {
   "cell_type": "markdown",
   "metadata": {},
   "source": [
    "#### Vẽ hàm phân phối tích luỹ (cdf)"
   ]
  },
  {
   "cell_type": "markdown",
   "metadata": {},
   "source": [
    "Thử vẽ hàm phân phối tích luỹ của đồ thị trên (mu=10)"
   ]
  },
  {
   "cell_type": "code",
   "execution_count": 21,
   "metadata": {},
   "outputs": [
    {
     "name": "stdout",
     "output_type": "stream",
     "text": [
      "[4.53999298e-05 4.99399227e-04 2.76939572e-03 1.03360507e-02\n",
      " 2.92526881e-02 6.70859629e-02 1.30141421e-01 2.20220647e-01\n",
      " 3.32819679e-01 4.57929714e-01 5.83039750e-01 6.96776146e-01\n",
      " 7.91556476e-01 8.64464423e-01 9.16541527e-01 9.51259597e-01\n",
      " 9.72958390e-01 9.85722386e-01 9.92813495e-01 9.96545658e-01\n",
      " 9.98411739e-01 9.99300349e-01 9.99704263e-01 9.99879878e-01\n",
      " 9.99953051e-01 9.99982320e-01 9.99993577e-01 9.99997746e-01\n",
      " 9.99999236e-01 9.99999749e-01]\n"
     ]
    }
   ],
   "source": [
    "xs_tich_luy = poisson.cdf(x, mu=10)\n",
    "print(xs_tich_luy)"
   ]
  },
  {
   "cell_type": "code",
   "execution_count": 22,
   "metadata": {},
   "outputs": [
    {
     "data": {
      "image/png": "[encoded data removed]",
      "text/plain": [
       "<Figure size 864x288 with 2 Axes>"
      ]
     },
     "metadata": {
      "needs_background": "light"
     },
     "output_type": "display_data"
    }
   ],
   "source": [
    "# Vẽ đồ thị có kích thước 12x4 (inches), gồm 2 đồ thị con (axes) nằm cùng một hàng\n",
    "fig, axes = plt.subplots(1, 2, figsize=(12, 4))\n",
    "\n",
    "# Vẽ hàm độ lớn (pmf)\n",
    "axes[0].scatter(x, y, color='red', marker='.')\n",
    "\n",
    "for value in x:\n",
    "    axes[0].plot([value, value], [0, y[value]], color='green', ls='--')\n",
    "\n",
    "axes[0].set(xlabel='Giá trị', title='PMF')\n",
    "\n",
    "# Vẽ hàm phân phối tích luỹ (cdf)\n",
    "axes[1].plot(x, xs_tich_luy, marker='.',color='darkorange') # Thêm marker cho dễ nhìn\n",
    "axes[1].set(xlabel='Giá trị', title='CDF')\n",
    "\n",
    "plt.show()"
   ]
  },
  {
   "cell_type": "markdown",
   "metadata": {},
   "source": [
    "### 3.3 Phân Phối Chuẩn (Normal)"
   ]
  },
  {
   "cell_type": "markdown",
   "metadata": {},
   "source": [
    "#### Phát sinh mẫu\n",
    "\n",
    "Giả sử chiều cao của nam thanh niên trưởng thành là biến ngẫu nhiên có phân phối chuẩn với kỳ vọng là 170cm, và độ lệch chuẩn là 3cm. Ta thử phát sinh ngẫu nhiên mẫu chiều cao của 10000 thanh niên."
   ]
  },
  {
   "cell_type": "code",
   "execution_count": 23,
   "metadata": {},
   "outputs": [],
   "source": [
    "mu = 170\n",
    "sigma = 3\n",
    "norm_sam_10K = norm.rvs(loc=mu, scale=sigma, size=10000)"
   ]
  },
  {
   "cell_type": "markdown",
   "metadata": {},
   "source": [
    "#### Vẽ histogram"
   ]
  },
  {
   "cell_type": "code",
   "execution_count": 24,
   "metadata": {},
   "outputs": [
    {
     "data": {
      "image/png": "[encoded data removed]",
      "text/plain": [
       "<Figure size 432x288 with 1 Axes>"
      ]
     },
     "metadata": {
      "needs_background": "light"
     },
     "output_type": "display_data"
    }
   ],
   "source": [
    "plt.hist(norm_sam_10K, bins=100)\n",
    "\n",
    "plt.show()"
   ]
  },
  {
   "cell_type": "markdown",
   "metadata": {},
   "source": [
    "#### Vẽ hàm mật độ (pdf)\n",
    "\n",
    "Thử vẽ đồ thị hàm mật độ của phân phối chuẩn với các tham số $\\mu$ và $\\sigma$ khác nhau"
   ]
  },
  {
   "cell_type": "code",
   "execution_count": 25,
   "metadata": {},
   "outputs": [
    {
     "data": {
      "image/png": "[encoded data removed]",
      "text/plain": [
       "<Figure size 432x288 with 1 Axes>"
      ]
     },
     "metadata": {
      "needs_background": "light"
     },
     "output_type": "display_data"
    }
   ],
   "source": [
    "x = np.linspace(150, 190, 100)\n",
    "y1 = norm.pdf(x, loc=170, scale=3)\n",
    "y2 = norm.pdf(x, loc=170, scale=5)\n",
    "y3 = norm.pdf(x, loc=160, scale=3)\n",
    "\n",
    "plt.plot(x, y1, label='$\\mu=170, \\sigma=3$')\n",
    "plt.plot(x, y2, label='$\\mu=170, \\sigma=5$')\n",
    "plt.plot(x, y3, label='$\\mu=160, \\sigma=3$')\n",
    "\n",
    "plt.title('HÀM MẬT ĐỘ PHÂN PHỐI CHUẨN')\n",
    "plt.legend()\n",
    "plt.show()"
   ]
  },
  {
   "cell_type": "code",
   "execution_count": 26,
   "metadata": {},
   "outputs": [
    {
     "data": {
      "image/png": "[encoded data removed]",
      "text/plain": [
       "<Figure size 432x288 with 1 Axes>"
      ]
     },
     "metadata": {
      "needs_background": "light"
     },
     "output_type": "display_data"
    }
   ],
   "source": [
    "xx = np.linspace(-3, 3, 100)\n",
    "yy = norm.pdf(xx) # mặc định loc=0, scale=1\n",
    "\n",
    "plt.plot(xx, yy, color='darkorange', label='$\\mu=0, \\sigma=1$')\n",
    "# plt.plot(xx, yy)\n",
    "plt.title('HÀM MẬT ĐỘ PHÂN PHỐI CHUẨN TẮC')\n",
    "plt.legend()\n",
    "\n",
    "plt.show()"
   ]
  },
  {
   "cell_type": "code",
   "execution_count": 27,
   "metadata": {},
   "outputs": [
    {
     "data": {
      "text/plain": [
       "0.24197072451914337"
      ]
     },
     "execution_count": 27,
     "metadata": {},
     "output_type": "execute_result"
    }
   ],
   "source": [
    "norm.pdf(-1)"
   ]
  },
  {
   "cell_type": "markdown",
   "metadata": {},
   "source": [
    "#### Tính toán trên phân phối chuẩn\n",
    "\n",
    "Một số hàm thường dùng trên phân phối chuẩn"
   ]
  },
  {
   "cell_type": "code",
   "execution_count": 28,
   "metadata": {},
   "outputs": [
    {
     "name": "stdout",
     "output_type": "stream",
     "text": [
      "0.15865525393145707 0.15865525393145707 0.6826894921370859\n"
     ]
    }
   ],
   "source": [
    "xs_be_hon_1 = norm.cdf(x= -1, loc = 0, scale= 1)     \n",
    "\n",
    "xs_lon_hon_1 = 1 - norm.cdf(x= 1, loc = 0, scale= 1) \n",
    "\n",
    "xs_giua = 1 - (xs_be_hon_1 + xs_lon_hon_1)\n",
    "\n",
    "print(xs_be_hon_1, xs_lon_hon_1, xs_giua)"
   ]
  },
  {
   "cell_type": "code",
   "execution_count": 29,
   "metadata": {},
   "outputs": [
    {
     "data": {
      "text/plain": [
       "Text(1.3, 0.03, '0.159')"
      ]
     },
     "execution_count": 29,
     "metadata": {},
     "output_type": "execute_result"
    },
    {
     "data": {
      "image/png": "[encoded data removed]",
      "text/plain": [
       "<Figure size 432x288 with 1 Axes>"
      ]
     },
     "metadata": {
      "needs_background": "light"
     },
     "output_type": "display_data"
    }
   ],
   "source": [
    "plt.fill_between(x=np.arange(-4,-1,0.01), \n",
    "                 y1= norm.pdf(np.arange(-4,-1,0.01)) ,\n",
    "                 color='red',\n",
    "                 alpha=0.35)\n",
    "\n",
    "plt.fill_between(x=np.arange(1,4,0.01), \n",
    "                 y1= norm.pdf(np.arange(1,4,0.01)) ,\n",
    "                 color='red',\n",
    "                 alpha=0.35)\n",
    "\n",
    "plt.fill_between(x=np.arange(-1,1,0.01), \n",
    "                 y1= norm.pdf(np.arange(-1,1,0.01)) ,\n",
    "                 color='blue',\n",
    "                 alpha=0.35)\n",
    "\n",
    "plt.text(x=-1.9, y=0.03, s= round(xs_be_hon_1, 3))\n",
    "plt.text(x=-0.4, y=0.1, s= round(xs_giua,3))\n",
    "plt.text(x=1.3, y=0.03, s= round(xs_lon_hon_1, 3))"
   ]
  },
  {
   "cell_type": "markdown",
   "metadata": {},
   "source": [
    "Hàm **cdf()**"
   ]
  },
  {
   "cell_type": "code",
   "execution_count": 4,
   "metadata": {},
   "outputs": [
    {
     "data": {
      "text/plain": [
       "0.02275"
      ]
     },
     "execution_count": 4,
     "metadata": {},
     "output_type": "execute_result"
    }
   ],
   "source": [
    "norm.cdf(-2).round(5)"
   ]
  },
  {
   "cell_type": "code",
   "execution_count": 9,
   "metadata": {},
   "outputs": [
    {
     "data": {
      "text/plain": [
       "0.02275"
      ]
     },
     "execution_count": 9,
     "metadata": {},
     "output_type": "execute_result"
    }
   ],
   "source": [
    "norm.cdf(8, loc=16, scale=4).round(5)"
   ]
  },
  {
   "cell_type": "code",
   "execution_count": 11,
   "metadata": {},
   "outputs": [
    {
     "data": {
      "text/plain": [
       "8.0"
      ]
     },
     "execution_count": 11,
     "metadata": {},
     "output_type": "execute_result"
    }
   ],
   "source": [
    "norm.ppf(0.02275, loc=16, scale=4).round(2)"
   ]
  },
  {
   "cell_type": "markdown",
   "metadata": {},
   "source": [
    "Hàm **ppf()**"
   ]
  },
  {
   "cell_type": "code",
   "execution_count": 5,
   "metadata": {},
   "outputs": [
    {
     "data": {
      "text/plain": [
       "-2.0"
      ]
     },
     "execution_count": 5,
     "metadata": {},
     "output_type": "execute_result"
    }
   ],
   "source": [
    "norm.ppf(0.02275).round(2)"
   ]
  },
  {
   "cell_type": "markdown",
   "metadata": {},
   "source": [
    "Hàm **sf()**"
   ]
  },
  {
   "cell_type": "code",
   "execution_count": 6,
   "metadata": {},
   "outputs": [
    {
     "data": {
      "text/plain": [
       "0.02275"
      ]
     },
     "execution_count": 6,
     "metadata": {},
     "output_type": "execute_result"
    }
   ],
   "source": [
    "norm.sf(2).round(5)"
   ]
  },
  {
   "cell_type": "markdown",
   "metadata": {},
   "source": [
    "Hàm **isf()**"
   ]
  },
  {
   "cell_type": "code",
   "execution_count": 7,
   "metadata": {},
   "outputs": [
    {
     "data": {
      "text/plain": [
       "2.0"
      ]
     },
     "execution_count": 7,
     "metadata": {},
     "output_type": "execute_result"
    }
   ],
   "source": [
    "norm.isf(0.02275).round(2)"
   ]
  },
  {
   "cell_type": "markdown",
   "metadata": {},
   "source": [
    "---"
   ]
  }
 ],
 "metadata": {
  "kernelspec": {
   "display_name": "Python 3 (ipykernel)",
   "language": "python",
   "name": "python3"
  },
  "language_info": {
   "codemirror_mode": {
    "name": "ipython",
    "version": 3
   },
   "file_extension": ".py",
   "mimetype": "text/x-python",
   "name": "python",
   "nbconvert_exporter": "python",
   "pygments_lexer": "ipython3",
   "version": "3.9.7"
  }
 },
 "nbformat": 4,
 "nbformat_minor": 4
}
