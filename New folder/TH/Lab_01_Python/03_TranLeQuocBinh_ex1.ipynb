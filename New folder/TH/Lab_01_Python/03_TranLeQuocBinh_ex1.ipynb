{
 "cells": [
  {
   "cell_type": "markdown",
   "metadata": {
    "id": "Cj3g7_Xjv0cQ"
   },
   "source": [
    "# Lab 01 - Bài tập"
   ]
  },
  {
   "cell_type": "markdown",
   "metadata": {
    "id": "uHya_O8Nv9Bg"
   },
   "source": [
    "## PYTHON\n",
    "\n",
    "1. Viết chương trình nhập vào số nguyên n (n>0). In ra các số nguyên tố từ 1..n\n"
   ]
  },
  {
   "cell_type": "code",
   "execution_count": 1,
   "metadata": {
    "id": "AnQZ06Hxxwlo"
   },
   "outputs": [
    {
     "name": "stdout",
     "output_type": "stream",
     "text": [
      "123\n",
      "2  \n",
      "3  \n",
      "5  \n",
      "7  \n",
      "11  \n",
      "13  \n",
      "17  \n",
      "19  \n",
      "23  \n",
      "29  \n",
      "31  \n",
      "37  \n",
      "41  \n",
      "43  \n",
      "47  \n",
      "53  \n",
      "59  \n",
      "61  \n",
      "67  \n",
      "71  \n",
      "73  \n",
      "79  \n",
      "83  \n",
      "89  \n",
      "97  \n",
      "101  \n",
      "103  \n",
      "107  \n",
      "109  \n",
      "113  \n"
     ]
    }
   ],
   "source": [
    "import math\n",
    "\n",
    "def check_nt(m):\n",
    "    if m < 2:\n",
    "        return False \n",
    "    for i in range(2,int(math.sqrt(m))+1):\n",
    "        if m % i == 0: \n",
    "            return False\n",
    "    return True\n",
    "\n",
    "n = int(input())\n",
    "for i in range(1,n):\n",
    "    if check_nt(i):\n",
    "        print(i,' ')"
   ]
  },
  {
   "cell_type": "markdown",
   "metadata": {
    "id": "XpmGHRLRxx34"
   },
   "source": [
    "2. Viết chương trình nhập vào số nguyên n có 3 chữ số. Tính tổng các chữ số của n"
   ]
  },
  {
   "cell_type": "code",
   "execution_count": 15,
   "metadata": {
    "id": "AXOFJ9Iwvtvh"
   },
   "outputs": [
    {
     "name": "stdout",
     "output_type": "stream",
     "text": [
      "123\n",
      "6\n"
     ]
    }
   ],
   "source": [
    "def tong(m):\n",
    "    t = 0\n",
    "    while m/10>0:\n",
    "        t = t + m%10\n",
    "        m = int(m/10)\n",
    "    return t\n",
    "n = int(input())\n",
    "print(tong(n))\n",
    "\n"
   ]
  },
  {
   "cell_type": "markdown",
   "metadata": {
    "id": "oba6gvmwyFrZ"
   },
   "source": [
    "3. Viết chương trình nhập vào một dãy các số nguyên được cách nhau bởi khoảng trắng (VD: 32 8 4 6 9...) lưu vào python ở dạng mảng. Thực hiện\n",
    "\n",
    "- Xuất mảng\n",
    "- Tính tổng các phần tử của mảng\n",
    "- Tìm số lớn nhất\n",
    "- Tìm số bé nhất\n",
    "- Sắp xếp mảng theo thứ tự giảm dần\n",
    "- In ra các số chẵn trong mảng"
   ]
  },
  {
   "cell_type": "code",
   "execution_count": 1,
   "metadata": {
    "id": "9XBwANmGyFyY"
   },
   "outputs": [
    {
     "name": "stdout",
     "output_type": "stream",
     "text": [
      "Nhập dãy số nguyên cách nhau bởi khoảng trắng: 1 2 3 4\n",
      "Mảng đã nhập: [1, 2, 3, 4]\n",
      "Tổng các phần tử của mảng: 10\n",
      "Số lớn nhất trong mảng: 4\n",
      "Số bé nhất trong mảng: 1\n",
      "Mảng sau khi sắp xếp giảm dần: [4, 3, 2, 1]\n",
      "Các số chẵn trong mảng: [4, 2]\n"
     ]
    }
   ],
   "source": [
    " # Nhập dãy số từ người dùng và chuyển thành mảng\n",
    "input_numbers = input(\"Nhập dãy số nguyên cách nhau bởi khoảng trắng: \")\n",
    "numbers = [int(x) for x in input_numbers.split()]\n",
    "\n",
    "# Xuất mảng\n",
    "print(\"Mảng đã nhập:\", numbers)\n",
    "\n",
    "# Tính tổng các phần tử của mảng\n",
    "total = sum(numbers)\n",
    "print(\"Tổng các phần tử của mảng:\", total)\n",
    "\n",
    "# Tìm số lớn nhất và số bé nhất\n",
    "max_num = max(numbers)\n",
    "min_num = min(numbers)\n",
    "print(\"Số lớn nhất trong mảng:\", max_num)\n",
    "print(\"Số bé nhất trong mảng:\", min_num)\n",
    "\n",
    "# Sắp xếp mảng theo thứ tự giảm dần\n",
    "numbers.sort(reverse=True)\n",
    "print(\"Mảng sau khi sắp xếp giảm dần:\", numbers)\n",
    "\n",
    "# In ra các số chẵn trong mảng\n",
    "even_numbers = [x for x in numbers if x % 2 == 0]\n",
    "print(\"Các số chẵn trong mảng:\", even_numbers)"
   ]
  },
  {
   "cell_type": "markdown",
   "metadata": {
    "id": "hgGOt_Cxyulx"
   },
   "source": [
    "### 4. Viết chương trình yêu cầu người dùng nhập họ tên. Hiển thị tên người dùng sau khi đã chuẩn hóa. Biết rằng tên đã chuẩn hóa là:\n",
    "- Ký tự đầu viết hoa\n",
    "- Không có khoảng trắng thừa\n",
    "- Không có ký tự đặc biệt"
   ]
  },
  {
   "cell_type": "code",
   "execution_count": 14,
   "metadata": {
    "id": "duR4BF8Dyu_w"
   },
   "outputs": [
    {
     "name": "stdout",
     "output_type": "stream",
     "text": [
      "Nhập họ tên của bạn:          tran lê         QuOC bInH        \n",
      "Tên đã chuẩn hóa: Tran Lê Quoc Binh\n"
     ]
    }
   ],
   "source": [
    "def standardize_name(name):\n",
    "    # Chuyển đổi tên thành dạng viết hoa\n",
    "    standardized_name = name.title()\n",
    "\n",
    "   # Loại bỏ khoảng trắng thừa\n",
    "    standardized_name = ' '.join(standardized_name.split())\n",
    "\n",
    "    # Loại bỏ ký tự đặc biệt\n",
    "    standardized_name = ''.join(char for char in standardized_name if char.isalnum() or char.isspace())\n",
    "\n",
    "    return standardized_name\n",
    "\n",
    "def main():\n",
    "    user_name = input(\"Nhập họ tên của bạn: \")\n",
    "    standardized_name = standardize_name(user_name)\n",
    "    print(\"Tên đã chuẩn hóa:\", standardized_name)\n",
    "\n",
    "main()"
   ]
  },
  {
   "cell_type": "markdown",
   "metadata": {
    "id": "W5KucasA0NSA"
   },
   "source": [
    "5. Viết chương trình nhập vào một số nguyên dương (n>0). Cho biết n có phải là số đối xứng hay không? Biết số đối xứng là số viết xuôi hay viết ngược đều như nhau"
   ]
  },
  {
   "cell_type": "code",
   "execution_count": 13,
   "metadata": {
    "id": "FTH5V3je0YPg"
   },
   "outputs": [
    {
     "name": "stdout",
     "output_type": "stream",
     "text": [
      "Nhập một số nguyên dương: 12321\n",
      "12321 là số đối xứng.\n"
     ]
    }
   ],
   "source": [
    "def is_palindrome(n):\n",
    "    str_n = str(n)\n",
    "    return str_n == str_n[::-1]\n",
    "\n",
    "def main():\n",
    "    n = int(input(\"Nhập một số nguyên dương: \"))\n",
    "    if n > 0:\n",
    "        if is_palindrome(n):\n",
    "            print(f\"{n} là số đối xứng.\")\n",
    "        else:\n",
    "            print(f\"{n} không phải là số đối xứng.\")\n",
    "    else:\n",
    "        print(\"Vui lòng nhập một số nguyên dương.\")\n",
    "\n",
    "main()\n"
   ]
  },
  {
   "cell_type": "code",
   "execution_count": null,
   "metadata": {},
   "outputs": [],
   "source": []
  }
 ],
 "metadata": {
  "colab": {
   "authorship_tag": "ABX9TyOelhBBO7DINQ7b3uUiVhbi",
   "provenance": []
  },
  "kernelspec": {
   "display_name": "Python 3 (ipykernel)",
   "language": "python",
   "name": "python3"
  },
  "language_info": {
   "codemirror_mode": {
    "name": "ipython",
    "version": 3
   },
   "file_extension": ".py",
   "mimetype": "text/x-python",
   "name": "python",
   "nbconvert_exporter": "python",
   "pygments_lexer": "ipython3",
   "version": "3.11.5"
  }
 },
 "nbformat": 4,
 "nbformat_minor": 1
}
