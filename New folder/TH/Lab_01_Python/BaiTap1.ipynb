{
 "cells": [
  {
   "cell_type": "code",
   "execution_count": 1,
   "metadata": {},
   "outputs": [
    {
     "name": "stdout",
     "output_type": "stream",
     "text": [
      "[3, 1, 2] 2\n",
      "2\n",
      "[3, 1, 'foo']\n",
      "[3, 1, 'foo', 'bar']\n",
      "bar [3, 1, 'foo']\n"
     ]
    }
   ],
   "source": [
    "xs = [3, 1, 2]    # Create a list\n",
    "print(xs, xs[2])  # Prints \"[3, 1, 2] 2\"\n",
    "print(xs[-1])     # Negative indices count from the end of the list; prints \"2\"\n",
    "xs[2] = 'foo'     # Lists can contain elements of different types\n",
    "print(xs)         # Prints \"[3, 1, 'foo']\"\n",
    "xs.append('bar')  # Add a new element to the end of the list\n",
    "print(xs)         # Prints \"[3, 1, 'foo', 'bar']\"\n",
    "x = xs.pop()      # Remove and return the last element of the list\n",
    "print(x, xs)      # Prints \"bar [3, 1, 'foo']\""
   ]
  },
  {
   "cell_type": "code",
   "execution_count": 2,
   "metadata": {},
   "outputs": [
    {
     "name": "stdout",
     "output_type": "stream",
     "text": [
      "a nhon\n"
     ]
    }
   ],
   "source": [
    "print(\"a nhon\")"
   ]
  },
  {
   "cell_type": "code",
   "execution_count": 3,
   "metadata": {},
   "outputs": [],
   "source": [
    "#include"
   ]
  },
  {
   "cell_type": "code",
   "execution_count": 4,
   "metadata": {},
   "outputs": [
    {
     "name": "stdout",
     "output_type": "stream",
     "text": [
      "hello\n"
     ]
    }
   ],
   "source": [
    "print('hello') #incl\n"
   ]
  },
  {
   "cell_type": "code",
   "execution_count": 5,
   "metadata": {},
   "outputs": [
    {
     "name": "stdout",
     "output_type": "stream",
     "text": [
      "12\n",
      "-2\n",
      "0.7142857142857143\n",
      "1.4\n",
      "2\n",
      "35\n",
      "78125\n"
     ]
    }
   ],
   "source": [
    "#Phep cong\n",
    "print(5+7)\n",
    "#Phep tru\n",
    "print(5-7)\n",
    "#Phep chia lay phan nguyen\n",
    "print(5/7)\n",
    "print(7/5)\n",
    "#Phep chia lay du\n",
    "print(7%5)\n",
    "#Phep nhan\n",
    "print(5*7)\n",
    "#Phep luy thua \n",
    "print(5**7)"
   ]
  },
  {
   "cell_type": "code",
   "execution_count": 6,
   "metadata": {},
   "outputs": [
    {
     "name": "stdout",
     "output_type": "stream",
     "text": [
      "Phep cong:  12\n",
      "-2\n",
      "0.7142857142857143\n",
      "1.4\n",
      "2\n",
      "35\n",
      "78125\n"
     ]
    }
   ],
   "source": [
    "#Phep cong\n",
    "print('Phep cong: ',5+7)\n",
    "#Phep tru\n",
    "print(5-7)\n",
    "#Phep chia lay phan nguyen\n",
    "print(5/7)\n",
    "print(7/5)\n",
    "#Phep chia lay du\n",
    "print(7%5)\n",
    "#Phep nhan\n",
    "print(5*7)\n",
    "#Phep luy thua \n",
    "print(5**7)"
   ]
  },
  {
   "cell_type": "code",
   "execution_count": 7,
   "metadata": {},
   "outputs": [
    {
     "ename": "SyntaxError",
     "evalue": "invalid syntax (<ipython-input-7-b601b828a926>, line 2)",
     "output_type": "error",
     "traceback": [
      "\u001b[1;36m  File \u001b[1;32m\"<ipython-input-7-b601b828a926>\"\u001b[1;36m, line \u001b[1;32m2\u001b[0m\n\u001b[1;33m    print('Phep cong: '5+7)\u001b[0m\n\u001b[1;37m                       ^\u001b[0m\n\u001b[1;31mSyntaxError\u001b[0m\u001b[1;31m:\u001b[0m invalid syntax\n"
     ]
    }
   ],
   "source": [
    "#Phep cong\n",
    "print('Phep cong: '5+7)\n",
    "#Phep tru\n",
    "print(5-7)\n",
    "#Phep chia lay phan nguyen\n",
    "print(5/7)\n",
    "print(7/5)\n",
    "#Phep chia lay du\n",
    "print(7%5)\n",
    "#Phep nhan\n",
    "print(5*7)\n",
    "#Phep luy thua \n",
    "print(5**7)"
   ]
  },
  {
   "cell_type": "code",
   "execution_count": 8,
   "metadata": {},
   "outputs": [
    {
     "name": "stdout",
     "output_type": "stream",
     "text": [
      "5\n"
     ]
    }
   ],
   "source": [
    "x = 5\n",
    "print(x)"
   ]
  },
  {
   "cell_type": "code",
   "execution_count": null,
   "metadata": {},
   "outputs": [],
   "source": []
  }
 ],
 "metadata": {
  "kernelspec": {
   "display_name": "Python 3",
   "language": "python",
   "name": "python3"
  },
  "language_info": {
   "codemirror_mode": {
    "name": "ipython",
    "version": 3
   },
   "file_extension": ".py",
   "mimetype": "text/x-python",
   "name": "python",
   "nbconvert_exporter": "python",
   "pygments_lexer": "ipython3",
   "version": "3.8.5"
  }
 },
 "nbformat": 4,
 "nbformat_minor": 4
}
