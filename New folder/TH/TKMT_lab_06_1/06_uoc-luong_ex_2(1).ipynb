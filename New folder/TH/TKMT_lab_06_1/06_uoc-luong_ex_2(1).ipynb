{
 "cells": [
  {
   "cell_type": "markdown",
   "metadata": {},
   "source": [
    "# BÀI TẬP ƯỚC LƯỢNG"
   ]
  },
  {
   "cell_type": "markdown",
   "metadata": {},
   "source": [
    "## <u>Bài 1</u>"
   ]
  },
  {
   "cell_type": "markdown",
   "metadata": {},
   "source": [
    "Green M&M Candies liên quan đến Dataset 18 trong file excel. Tìm tỉ lệ mẫu của M&M có màu xanh lá cây (green). Sử dụng kết quả để xây dựng 1 ước lượng khoảng tin cậy 95% của % quần thể M&M có màu xanh."
   ]
  },
  {
   "cell_type": "code",
   "execution_count": 115,
   "metadata": {
    "jupyter": {
     "outputs_hidden": true
    }
   },
   "outputs": [],
   "source": [
    "import numpy as np\n",
    "import pandas as pd"
   ]
  },
  {
   "cell_type": "code",
   "execution_count": 116,
   "metadata": {
    "jupyter": {
     "outputs_hidden": true
    }
   },
   "outputs": [],
   "source": [
    "df = pd.read_excel('./data/18_M_M.xls')\n",
    "a=df.count().sum()"
   ]
  },
  {
   "cell_type": "code",
   "execution_count": 117,
   "metadata": {},
   "outputs": [
    {
     "name": "stdout",
     "output_type": "stream",
     "text": [
      "Ti le cay co mau xanh la:  19.0 %\n"
     ]
    }
   ],
   "source": [
    "print('Ti le cay co mau xanh la: ',df['Green'].count()/df.count().sum()*100,'%')"
   ]
  },
  {
   "cell_type": "code",
   "execution_count": 118,
   "metadata": {},
   "outputs": [],
   "source": [
    "import math\n",
    "from scipy.stats import norm\n",
    "z = norm.isf(0.025)\n",
    "E=z*math.sqrt(0.19*0.81/a)"
   ]
  },
  {
   "cell_type": "code",
   "execution_count": 119,
   "metadata": {},
   "outputs": [
    {
     "name": "stdout",
     "output_type": "stream",
     "text": [
      "Khoang tin cay:[ 0.11311043552569529 , 0.26688956447430473 ]\n"
     ]
    }
   ],
   "source": [
    "print('Khoang tin cay:[',0.19-E,',',0.19+E,']')"
   ]
  },
  {
   "cell_type": "markdown",
   "metadata": {},
   "source": [
    "## <u>Bài 2</u>"
   ]
  },
  {
   "cell_type": "markdown",
   "metadata": {},
   "source": [
    "Freshman Weight Gain liên quan đến Dataset 3 trong file excel\n",
    "\n",
    "a. Dựa vào kết quả của mẫu, tìm ước lượng điểm tốt nhất của tỉ lệ phần trăm các sinh viên cao đẳng tăng cân trong năm thứ 1.\n",
    "\n",
    "b. Xây dựng ước lượng khoảng tin cậy 95% về tỉ lệ phần trăm các sinh viên cao đẳng tăng cân trong năm thứ 1.\n"
   ]
  },
  {
   "cell_type": "code",
   "execution_count": 120,
   "metadata": {
    "jupyter": {
     "outputs_hidden": true
    }
   },
   "outputs": [],
   "source": [
    "df = pd.read_excel('./data/03_FRESH15.xls')"
   ]
  },
  {
   "cell_type": "code",
   "execution_count": 121,
   "metadata": {},
   "outputs": [
    {
     "name": "stdout",
     "output_type": "stream",
     "text": [
      "uoc luong diem tot nhat cua ty le:  67.16417910447761 %\n"
     ]
    }
   ],
   "source": [
    "#a\n",
    "a=df['WTSEP'].count()\n",
    "b=df.loc[df['WTSEP']<df['WTAPR']].count()\n",
    "b=b[0]\n",
    "print('uoc luong diem tot nhat cua ty le: ',b/a*100,'%')"
   ]
  },
  {
   "cell_type": "code",
   "execution_count": 122,
   "metadata": {},
   "outputs": [
    {
     "name": "stdout",
     "output_type": "stream",
     "text": [
      "Khoang tin cay:[ 0.5591933382456452 , 0.7840902438439071 ]\n"
     ]
    }
   ],
   "source": [
    "#b\n",
    "tl=b/a\n",
    "alpha_chia2=0.05/2\n",
    "z = norm.isf(alpha_chia2)\n",
    "E=z*math.sqrt(tl*(1-tl)/a)\n",
    "print('Khoang tin cay:[',tl-E,',',tl+E,']')"
   ]
  },
  {
   "cell_type": "markdown",
   "metadata": {},
   "source": [
    "## <u>Bài 3</u>"
   ]
  },
  {
   "cell_type": "markdown",
   "metadata": {},
   "source": [
    "Lượng mưa ở Boston: liên quan đến Dataset 14 trong file excel, và quan tâm đến các ngày với các giá trị lượng mưa khác nhau từ 0 đến các ngày có mưa có giá trị lượng mưa lớn hơn 0. Xây dựng ước lượng khoảng tin cậy 95% cho tỉ lệ mưa trong các ngày Thứ Tư và xây dựng ước lượng khoảng tin cậy 95% cho tỉ lệ mưa trong các ngày Chủ Nhật."
   ]
  },
  {
   "cell_type": "code",
   "execution_count": 123,
   "metadata": {
    "jupyter": {
     "outputs_hidden": true
    }
   },
   "outputs": [],
   "source": [
    "df=pd.read_excel('./data/14_BOSTRAIN.xls')"
   ]
  },
  {
   "cell_type": "code",
   "execution_count": 124,
   "metadata": {},
   "outputs": [
    {
     "name": "stdout",
     "output_type": "stream",
     "text": [
      "Ty le co mua:  30.18867924528302 %\n",
      "Khoang tin cay:[ 0.17829343220104465 , 0.4254801527046157 ]\n"
     ]
    }
   ],
   "source": [
    "#thứ 4\n",
    "a=df['WED'].count()\n",
    "b=df.loc[df['WED']>0].count()[0]\n",
    "tl=b/a\n",
    "print('Ty le co mua: ',tl*100,'%')\n",
    "alpha_chia2=0.05/2\n",
    "z = norm.isf(alpha_chia2)\n",
    "E=z*math.sqrt(tl*(1-tl)/a)\n",
    "print('Khoang tin cay:[',tl-E,',',tl+E,']')"
   ]
  },
  {
   "cell_type": "code",
   "execution_count": 125,
   "metadata": {},
   "outputs": [
    {
     "name": "stdout",
     "output_type": "stream",
     "text": [
      "Ty le co mua:  28.846153846153843 %\n",
      "Khoang tin cay:[ 0.16532425535077147 , 0.41159882157230543 ]\n"
     ]
    }
   ],
   "source": [
    "#chủ nhật\n",
    "a=df['SUN'].count()\n",
    "b=df.loc[df['SUN']>0].count()[0]\n",
    "tl=b/a\n",
    "print('Ty le co mua: ',tl*100,'%')\n",
    "alpha_chia2=0.05/2\n",
    "z = norm.isf(alpha_chia2)\n",
    "E=z*math.sqrt(tl*(1-tl)/a)\n",
    "print('Khoang tin cay:[',tl-E,',',tl+E,']')"
   ]
  },
  {
   "cell_type": "markdown",
   "metadata": {},
   "source": [
    "## <u>Bài 4</u>"
   ]
  },
  {
   "cell_type": "markdown",
   "metadata": {},
   "source": [
    "Tổng số tiền phim: liên quan đến Dataset 9 trong file excel. Xây dựng ước tính khoảng tin cậy 95% của tổng số tiền trung bình cho quần thể của tất cả các phim. Giả định rằng độ lệch chuẩn của quần thể được biết là 100 triệu đô la. "
   ]
  },
  {
   "cell_type": "code",
   "execution_count": 126,
   "metadata": {
    "jupyter": {
     "outputs_hidden": true
    }
   },
   "outputs": [],
   "source": [
    "df=pd.read_excel('./data/09_MOVIES.xls')"
   ]
  },
  {
   "cell_type": "code",
   "execution_count": 127,
   "metadata": {},
   "outputs": [],
   "source": [
    "b=df.count().sum()\n",
    "a=df['Budget']+df['Gross']\n",
    "tb=a.mean()\n",
    "alpha_chia2=0.05/2\n",
    "sigma=100\n",
    "z = norm.isf(alpha_chia2)\n",
    "E=z*sigma/math.sqrt(b)"
   ]
  },
  {
   "cell_type": "code",
   "execution_count": 128,
   "metadata": {},
   "outputs": [
    {
     "name": "stdout",
     "output_type": "stream",
     "text": [
      "Khoang tin cay:[ 183.56067785288926 , 210.61075071853932 ]\n"
     ]
    }
   ],
   "source": [
    "print('Khoang tin cay:[',tb-E,',',tb+E,']')"
   ]
  },
  {
   "cell_type": "markdown",
   "metadata": {},
   "source": [
    "## <u>Bài 5</u>"
   ]
  },
  {
   "cell_type": "markdown",
   "metadata": {},
   "source": [
    "Điểm đánh giá tín dụng FICO: liên quan đến Dataset 24 trong file excel. Xây dựng ước lượng khoảng tin cậy 99% của điểm FICO trung bình cho quần thể. Giả sử độ lệch chuẩn của quần thể là 92,2."
   ]
  },
  {
   "cell_type": "code",
   "execution_count": 129,
   "metadata": {
    "tags": []
   },
   "outputs": [],
   "source": [
    "df=pd.read_excel('./data/24_FICO.xls',header=None)\n",
    "a=df.count().sum()\n",
    "tb=df.mean()[0]\n",
    "alpha_chia2=0.01/2\n",
    "sigma=92.2\n",
    "z = norm.isf(alpha_chia2)\n",
    "E=z*sigma/math.sqrt(a)"
   ]
  },
  {
   "cell_type": "code",
   "execution_count": 130,
   "metadata": {},
   "outputs": [
    {
     "name": "stdout",
     "output_type": "stream",
     "text": [
      "Khoang tin cay:[ 679.3608538212792 , 726.8591461787208 ]\n"
     ]
    }
   ],
   "source": [
    "print('Khoang tin cay:[',tb-E,',',tb+E,']')"
   ]
  }
 ],
 "metadata": {
  "kernelspec": {
   "display_name": "Python 3 (ipykernel)",
   "language": "python",
   "name": "python3"
  },
  "language_info": {
   "codemirror_mode": {
    "name": "ipython",
    "version": 3
   },
   "file_extension": ".py",
   "mimetype": "text/x-python",
   "name": "python",
   "nbconvert_exporter": "python",
   "pygments_lexer": "ipython3",
   "version": "3.11.5"
  }
 },
 "nbformat": 4,
 "nbformat_minor": 4
}
