{
 "cells": [
  {
   "cell_type": "markdown",
   "id": "0844343a-4194-461f-bc54-d3c41c022b32",
   "metadata": {},
   "source": [
    "# VD1\n",
    "\n",
    "![Ví dụ 1](./images/uoc-luong_bt1.png)"
   ]
  }
 ],
 "metadata": {
  "kernelspec": {
   "display_name": "Python 3 (ipykernel)",
   "language": "python",
   "name": "python3"
  },
  "language_info": {
   "codemirror_mode": {
    "name": "ipython",
    "version": 3
   },
   "file_extension": ".py",
   "mimetype": "text/x-python",
   "name": "python",
   "nbconvert_exporter": "python",
   "pygments_lexer": "ipython3",
   "version": "3.9.7"
  }
 },
 "nbformat": 4,
 "nbformat_minor": 5
}
