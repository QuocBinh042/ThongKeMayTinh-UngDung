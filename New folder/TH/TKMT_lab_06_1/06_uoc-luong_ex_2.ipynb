{
 "cells": [
  {
   "cell_type": "markdown",
   "metadata": {},
   "source": [
    "# BÀI TẬP ƯỚC LƯỢNG"
   ]
  },
  {
   "cell_type": "markdown",
   "metadata": {},
   "source": [
    "## <u>Bài 1</u>"
   ]
  },
  {
   "cell_type": "markdown",
   "metadata": {},
   "source": [
    "Green M&M Candies liên quan đến Dataset 18 trong file excel. Tìm tỉ lệ mẫu của M&M có màu xanh lá cây (green). Sử dụng kết quả để xây dựng 1 ước lượng khoảng tin cậy 95% của % quần thể M&M có màu xanh."
   ]
  },
  {
   "cell_type": "code",
   "execution_count": 2,
   "metadata": {
    "jupyter": {
     "outputs_hidden": true
    }
   },
   "outputs": [],
   "source": [
    "import numpy as np\n",
    "import pandas as pd"
   ]
  },
  {
   "cell_type": "code",
   "execution_count": 6,
   "metadata": {
    "jupyter": {
     "outputs_hidden": true
    }
   },
   "outputs": [
    {
     "data": {
      "text/html": [
       "<div>\n",
       "<style scoped>\n",
       "    .dataframe tbody tr th:only-of-type {\n",
       "        vertical-align: middle;\n",
       "    }\n",
       "\n",
       "    .dataframe tbody tr th {\n",
       "        vertical-align: top;\n",
       "    }\n",
       "\n",
       "    .dataframe thead th {\n",
       "        text-align: right;\n",
       "    }\n",
       "</style>\n",
       "<table border=\"1\" class=\"dataframe\">\n",
       "  <thead>\n",
       "    <tr style=\"text-align: right;\">\n",
       "      <th></th>\n",
       "      <th>Red</th>\n",
       "      <th>Orange</th>\n",
       "      <th>Yellow</th>\n",
       "      <th>Brown</th>\n",
       "      <th>Blue</th>\n",
       "      <th>Green</th>\n",
       "    </tr>\n",
       "  </thead>\n",
       "  <tbody>\n",
       "    <tr>\n",
       "      <th>0</th>\n",
       "      <td>0.751</td>\n",
       "      <td>0.735</td>\n",
       "      <td>0.883</td>\n",
       "      <td>0.696</td>\n",
       "      <td>0.881</td>\n",
       "      <td>0.925</td>\n",
       "    </tr>\n",
       "    <tr>\n",
       "      <th>1</th>\n",
       "      <td>0.841</td>\n",
       "      <td>0.895</td>\n",
       "      <td>0.769</td>\n",
       "      <td>0.876</td>\n",
       "      <td>0.863</td>\n",
       "      <td>0.914</td>\n",
       "    </tr>\n",
       "    <tr>\n",
       "      <th>2</th>\n",
       "      <td>0.856</td>\n",
       "      <td>0.865</td>\n",
       "      <td>0.859</td>\n",
       "      <td>0.855</td>\n",
       "      <td>0.775</td>\n",
       "      <td>0.881</td>\n",
       "    </tr>\n",
       "    <tr>\n",
       "      <th>3</th>\n",
       "      <td>0.799</td>\n",
       "      <td>0.864</td>\n",
       "      <td>0.784</td>\n",
       "      <td>0.806</td>\n",
       "      <td>0.854</td>\n",
       "      <td>0.865</td>\n",
       "    </tr>\n",
       "    <tr>\n",
       "      <th>4</th>\n",
       "      <td>0.966</td>\n",
       "      <td>0.852</td>\n",
       "      <td>0.824</td>\n",
       "      <td>0.840</td>\n",
       "      <td>0.810</td>\n",
       "      <td>0.865</td>\n",
       "    </tr>\n",
       "    <tr>\n",
       "      <th>5</th>\n",
       "      <td>0.859</td>\n",
       "      <td>0.866</td>\n",
       "      <td>0.858</td>\n",
       "      <td>0.868</td>\n",
       "      <td>0.858</td>\n",
       "      <td>1.015</td>\n",
       "    </tr>\n",
       "    <tr>\n",
       "      <th>6</th>\n",
       "      <td>0.857</td>\n",
       "      <td>0.859</td>\n",
       "      <td>0.848</td>\n",
       "      <td>0.859</td>\n",
       "      <td>0.818</td>\n",
       "      <td>0.876</td>\n",
       "    </tr>\n",
       "    <tr>\n",
       "      <th>7</th>\n",
       "      <td>0.942</td>\n",
       "      <td>0.838</td>\n",
       "      <td>0.851</td>\n",
       "      <td>0.982</td>\n",
       "      <td>0.868</td>\n",
       "      <td>0.809</td>\n",
       "    </tr>\n",
       "    <tr>\n",
       "      <th>8</th>\n",
       "      <td>0.873</td>\n",
       "      <td>0.863</td>\n",
       "      <td>NaN</td>\n",
       "      <td>NaN</td>\n",
       "      <td>0.803</td>\n",
       "      <td>0.865</td>\n",
       "    </tr>\n",
       "    <tr>\n",
       "      <th>9</th>\n",
       "      <td>0.809</td>\n",
       "      <td>0.888</td>\n",
       "      <td>NaN</td>\n",
       "      <td>NaN</td>\n",
       "      <td>0.932</td>\n",
       "      <td>0.848</td>\n",
       "    </tr>\n",
       "    <tr>\n",
       "      <th>10</th>\n",
       "      <td>0.890</td>\n",
       "      <td>0.925</td>\n",
       "      <td>NaN</td>\n",
       "      <td>NaN</td>\n",
       "      <td>0.842</td>\n",
       "      <td>0.940</td>\n",
       "    </tr>\n",
       "    <tr>\n",
       "      <th>11</th>\n",
       "      <td>0.878</td>\n",
       "      <td>0.793</td>\n",
       "      <td>NaN</td>\n",
       "      <td>NaN</td>\n",
       "      <td>0.832</td>\n",
       "      <td>0.833</td>\n",
       "    </tr>\n",
       "    <tr>\n",
       "      <th>12</th>\n",
       "      <td>0.905</td>\n",
       "      <td>0.977</td>\n",
       "      <td>NaN</td>\n",
       "      <td>NaN</td>\n",
       "      <td>0.807</td>\n",
       "      <td>0.845</td>\n",
       "    </tr>\n",
       "    <tr>\n",
       "      <th>13</th>\n",
       "      <td>NaN</td>\n",
       "      <td>0.850</td>\n",
       "      <td>NaN</td>\n",
       "      <td>NaN</td>\n",
       "      <td>0.841</td>\n",
       "      <td>0.852</td>\n",
       "    </tr>\n",
       "    <tr>\n",
       "      <th>14</th>\n",
       "      <td>NaN</td>\n",
       "      <td>0.830</td>\n",
       "      <td>NaN</td>\n",
       "      <td>NaN</td>\n",
       "      <td>0.932</td>\n",
       "      <td>0.778</td>\n",
       "    </tr>\n",
       "    <tr>\n",
       "      <th>15</th>\n",
       "      <td>NaN</td>\n",
       "      <td>0.856</td>\n",
       "      <td>NaN</td>\n",
       "      <td>NaN</td>\n",
       "      <td>0.833</td>\n",
       "      <td>0.814</td>\n",
       "    </tr>\n",
       "    <tr>\n",
       "      <th>16</th>\n",
       "      <td>NaN</td>\n",
       "      <td>0.842</td>\n",
       "      <td>NaN</td>\n",
       "      <td>NaN</td>\n",
       "      <td>0.881</td>\n",
       "      <td>0.791</td>\n",
       "    </tr>\n",
       "    <tr>\n",
       "      <th>17</th>\n",
       "      <td>NaN</td>\n",
       "      <td>0.778</td>\n",
       "      <td>NaN</td>\n",
       "      <td>NaN</td>\n",
       "      <td>0.818</td>\n",
       "      <td>0.810</td>\n",
       "    </tr>\n",
       "    <tr>\n",
       "      <th>18</th>\n",
       "      <td>NaN</td>\n",
       "      <td>0.786</td>\n",
       "      <td>NaN</td>\n",
       "      <td>NaN</td>\n",
       "      <td>0.864</td>\n",
       "      <td>0.881</td>\n",
       "    </tr>\n",
       "    <tr>\n",
       "      <th>19</th>\n",
       "      <td>NaN</td>\n",
       "      <td>0.853</td>\n",
       "      <td>NaN</td>\n",
       "      <td>NaN</td>\n",
       "      <td>0.825</td>\n",
       "      <td>NaN</td>\n",
       "    </tr>\n",
       "    <tr>\n",
       "      <th>20</th>\n",
       "      <td>NaN</td>\n",
       "      <td>0.864</td>\n",
       "      <td>NaN</td>\n",
       "      <td>NaN</td>\n",
       "      <td>0.855</td>\n",
       "      <td>NaN</td>\n",
       "    </tr>\n",
       "    <tr>\n",
       "      <th>21</th>\n",
       "      <td>NaN</td>\n",
       "      <td>0.873</td>\n",
       "      <td>NaN</td>\n",
       "      <td>NaN</td>\n",
       "      <td>0.942</td>\n",
       "      <td>NaN</td>\n",
       "    </tr>\n",
       "    <tr>\n",
       "      <th>22</th>\n",
       "      <td>NaN</td>\n",
       "      <td>0.880</td>\n",
       "      <td>NaN</td>\n",
       "      <td>NaN</td>\n",
       "      <td>0.825</td>\n",
       "      <td>NaN</td>\n",
       "    </tr>\n",
       "    <tr>\n",
       "      <th>23</th>\n",
       "      <td>NaN</td>\n",
       "      <td>0.882</td>\n",
       "      <td>NaN</td>\n",
       "      <td>NaN</td>\n",
       "      <td>0.869</td>\n",
       "      <td>NaN</td>\n",
       "    </tr>\n",
       "    <tr>\n",
       "      <th>24</th>\n",
       "      <td>NaN</td>\n",
       "      <td>0.931</td>\n",
       "      <td>NaN</td>\n",
       "      <td>NaN</td>\n",
       "      <td>0.912</td>\n",
       "      <td>NaN</td>\n",
       "    </tr>\n",
       "    <tr>\n",
       "      <th>25</th>\n",
       "      <td>NaN</td>\n",
       "      <td>NaN</td>\n",
       "      <td>NaN</td>\n",
       "      <td>NaN</td>\n",
       "      <td>0.887</td>\n",
       "      <td>NaN</td>\n",
       "    </tr>\n",
       "    <tr>\n",
       "      <th>26</th>\n",
       "      <td>NaN</td>\n",
       "      <td>NaN</td>\n",
       "      <td>NaN</td>\n",
       "      <td>NaN</td>\n",
       "      <td>0.886</td>\n",
       "      <td>NaN</td>\n",
       "    </tr>\n",
       "  </tbody>\n",
       "</table>\n",
       "</div>"
      ],
      "text/plain": [
       "      Red  Orange  Yellow  Brown   Blue  Green\n",
       "0   0.751   0.735   0.883  0.696  0.881  0.925\n",
       "1   0.841   0.895   0.769  0.876  0.863  0.914\n",
       "2   0.856   0.865   0.859  0.855  0.775  0.881\n",
       "3   0.799   0.864   0.784  0.806  0.854  0.865\n",
       "4   0.966   0.852   0.824  0.840  0.810  0.865\n",
       "5   0.859   0.866   0.858  0.868  0.858  1.015\n",
       "6   0.857   0.859   0.848  0.859  0.818  0.876\n",
       "7   0.942   0.838   0.851  0.982  0.868  0.809\n",
       "8   0.873   0.863     NaN    NaN  0.803  0.865\n",
       "9   0.809   0.888     NaN    NaN  0.932  0.848\n",
       "10  0.890   0.925     NaN    NaN  0.842  0.940\n",
       "11  0.878   0.793     NaN    NaN  0.832  0.833\n",
       "12  0.905   0.977     NaN    NaN  0.807  0.845\n",
       "13    NaN   0.850     NaN    NaN  0.841  0.852\n",
       "14    NaN   0.830     NaN    NaN  0.932  0.778\n",
       "15    NaN   0.856     NaN    NaN  0.833  0.814\n",
       "16    NaN   0.842     NaN    NaN  0.881  0.791\n",
       "17    NaN   0.778     NaN    NaN  0.818  0.810\n",
       "18    NaN   0.786     NaN    NaN  0.864  0.881\n",
       "19    NaN   0.853     NaN    NaN  0.825    NaN\n",
       "20    NaN   0.864     NaN    NaN  0.855    NaN\n",
       "21    NaN   0.873     NaN    NaN  0.942    NaN\n",
       "22    NaN   0.880     NaN    NaN  0.825    NaN\n",
       "23    NaN   0.882     NaN    NaN  0.869    NaN\n",
       "24    NaN   0.931     NaN    NaN  0.912    NaN\n",
       "25    NaN     NaN     NaN    NaN  0.887    NaN\n",
       "26    NaN     NaN     NaN    NaN  0.886    NaN"
      ]
     },
     "execution_count": 6,
     "metadata": {},
     "output_type": "execute_result"
    }
   ],
   "source": [
    "df = pd.read_excel(\"./data/18_M_M.xls\")\n",
    "df\n"
   ]
  },
  {
   "cell_type": "code",
   "execution_count": 18,
   "metadata": {},
   "outputs": [
    {
     "data": {
      "text/plain": [
       "0.19"
      ]
     },
     "execution_count": 18,
     "metadata": {},
     "output_type": "execute_result"
    }
   ],
   "source": [
    "\n",
    "green_ratio = df['Green'].count()/df.count().sum()\n",
    "green_ratio\n"
   ]
  },
  {
   "cell_type": "code",
   "execution_count": 8,
   "metadata": {},
   "outputs": [
    {
     "name": "stdout",
     "output_type": "stream",
     "text": [
      "0.11310902263594252 ; 0.2668909773640575\n"
     ]
    }
   ],
   "source": [
    "import numpy as np\n",
    "n = df.count().sum() # Tổng số kẹo M&M trong mẫu\n",
    "p = green_ratio # Tỉ lệ M&M có màu xanh trong mẫu\n",
    "se = np.sqrt(p*(1-p)/n) # Độ lệch chuẩn của phân phối mẫu\n",
    "z = 1.96 # Giá trị z-score tương ứng với mức độ tin cậy 95%\n",
    "margin_error = z*se # Sai số khoảng tin cậy\n",
    "lower_bound = p - margin_error # Giới hạn dưới của khoảng tin cậy\n",
    "upper_bound = p + margin_error # Giới hạn trên của khoảng tin cậy\n",
    "print(lower_bound,\";\",upper_bound)\n"
   ]
  },
  {
   "cell_type": "code",
   "execution_count": 17,
   "metadata": {},
   "outputs": [
    {
     "name": "stdout",
     "output_type": "stream",
     "text": [
      "Tỉ lệ mẫu của M&M có màu xanh lá cây: 0.031982456140350876\n"
     ]
    },
    {
     "data": {
      "text/plain": [
       "27"
      ]
     },
     "execution_count": 17,
     "metadata": {},
     "output_type": "execute_result"
    }
   ],
   "source": [
    "# import pandas as pd\n",
    "\n",
    "# green_mean = df[\"Green\"].mean()\n",
    "# n = len(df)\n",
    "\n",
    "# green_sample_prop = green_mean / n\n",
    "\n",
    "# print(\"Tỉ lệ mẫu của M&M có màu xanh lá cây:\", green_sample_prop)\n",
    "# green_mean\n",
    "# green_sample_prop \n",
    "# n = len(df)\n",
    "# n\n"
   ]
  },
  {
   "cell_type": "code",
   "execution_count": 11,
   "metadata": {},
   "outputs": [
    {
     "name": "stdout",
     "output_type": "stream",
     "text": [
      "95% Confidence interval for population proportion of green M&Ms:\n",
      "(0.8410, 0.8861)\n"
     ]
    }
   ],
   "source": [
    "# import numpy as np\n",
    "# from scipy.stats import t\n",
    "\n",
    "# alpha = 0.05  # mức ý nghĩa (significance level)\n",
    "# deg_freedom = n - 1  # độ tự do\n",
    "# se = np.sqrt(p*(1-p)/n) # Độ lệch chuẩn của phân phối mẫu\n",
    "# se = np.std(df[\"Green\"], ddof=1) / np.sqrt(n)  # standard error\n",
    "# t_critical = t.ppf(1 - alpha / 2, deg_freedom)  # t-score từ bảng phân phối t-student\n",
    "\n",
    "# lower = green_mean - t_critical * se  # lower bound\n",
    "# upper = green_mean + t_critical * se  # upper bound\n",
    "\n",
    "# print(\"95% Confidence interval for population proportion of green M&Ms:\")\n",
    "# print(f\"({lower:.4f}, {upper:.4f})\")\n"
   ]
  },
  {
   "cell_type": "markdown",
   "metadata": {},
   "source": [
    "## <u>Bài 2</u>"
   ]
  },
  {
   "cell_type": "markdown",
   "metadata": {},
   "source": [
    "Freshman Weight Gain liên quan đến Dataset 3 trong file excel\n",
    "\n",
    "a. Dựa vào kết quả của mẫu, tìm ước lượng điểm tốt nhất của tỉ lệ phần trăm các sinh viên cao đẳng tăng cân trong năm thứ 1.\n",
    "\n",
    "b. Xây dựng ước lượng khoảng tin cậy 95% về tỉ lệ phần trăm các sinh viên cao đẳng tăng cân trong năm thứ 1.\n"
   ]
  },
  {
   "cell_type": "code",
   "execution_count": 5,
   "metadata": {
    "jupyter": {
     "outputs_hidden": true
    }
   },
   "outputs": [
    {
     "data": {
      "text/html": [
       "<div>\n",
       "<style scoped>\n",
       "    .dataframe tbody tr th:only-of-type {\n",
       "        vertical-align: middle;\n",
       "    }\n",
       "\n",
       "    .dataframe tbody tr th {\n",
       "        vertical-align: top;\n",
       "    }\n",
       "\n",
       "    .dataframe thead th {\n",
       "        text-align: right;\n",
       "    }\n",
       "</style>\n",
       "<table border=\"1\" class=\"dataframe\">\n",
       "  <thead>\n",
       "    <tr style=\"text-align: right;\">\n",
       "      <th></th>\n",
       "      <th>SEX</th>\n",
       "      <th>WTSEP</th>\n",
       "      <th>WTAPR</th>\n",
       "      <th>BMISP</th>\n",
       "      <th>BMIAP</th>\n",
       "    </tr>\n",
       "  </thead>\n",
       "  <tbody>\n",
       "    <tr>\n",
       "      <th>0</th>\n",
       "      <td>M</td>\n",
       "      <td>72</td>\n",
       "      <td>59</td>\n",
       "      <td>22.02</td>\n",
       "      <td>18.14</td>\n",
       "    </tr>\n",
       "    <tr>\n",
       "      <th>1</th>\n",
       "      <td>M</td>\n",
       "      <td>97</td>\n",
       "      <td>86</td>\n",
       "      <td>19.70</td>\n",
       "      <td>17.44</td>\n",
       "    </tr>\n",
       "    <tr>\n",
       "      <th>2</th>\n",
       "      <td>M</td>\n",
       "      <td>74</td>\n",
       "      <td>69</td>\n",
       "      <td>24.09</td>\n",
       "      <td>22.43</td>\n",
       "    </tr>\n",
       "    <tr>\n",
       "      <th>3</th>\n",
       "      <td>M</td>\n",
       "      <td>93</td>\n",
       "      <td>88</td>\n",
       "      <td>26.97</td>\n",
       "      <td>25.57</td>\n",
       "    </tr>\n",
       "    <tr>\n",
       "      <th>4</th>\n",
       "      <td>F</td>\n",
       "      <td>68</td>\n",
       "      <td>64</td>\n",
       "      <td>21.51</td>\n",
       "      <td>20.10</td>\n",
       "    </tr>\n",
       "    <tr>\n",
       "      <th>...</th>\n",
       "      <td>...</td>\n",
       "      <td>...</td>\n",
       "      <td>...</td>\n",
       "      <td>...</td>\n",
       "      <td>...</td>\n",
       "    </tr>\n",
       "    <tr>\n",
       "      <th>62</th>\n",
       "      <td>M</td>\n",
       "      <td>65</td>\n",
       "      <td>71</td>\n",
       "      <td>22.51</td>\n",
       "      <td>24.45</td>\n",
       "    </tr>\n",
       "    <tr>\n",
       "      <th>63</th>\n",
       "      <td>M</td>\n",
       "      <td>75</td>\n",
       "      <td>82</td>\n",
       "      <td>23.69</td>\n",
       "      <td>25.80</td>\n",
       "    </tr>\n",
       "    <tr>\n",
       "      <th>64</th>\n",
       "      <td>F</td>\n",
       "      <td>42</td>\n",
       "      <td>49</td>\n",
       "      <td>15.08</td>\n",
       "      <td>17.74</td>\n",
       "    </tr>\n",
       "    <tr>\n",
       "      <th>65</th>\n",
       "      <td>M</td>\n",
       "      <td>74</td>\n",
       "      <td>82</td>\n",
       "      <td>22.64</td>\n",
       "      <td>25.33</td>\n",
       "    </tr>\n",
       "    <tr>\n",
       "      <th>66</th>\n",
       "      <td>M</td>\n",
       "      <td>94</td>\n",
       "      <td>105</td>\n",
       "      <td>36.57</td>\n",
       "      <td>40.86</td>\n",
       "    </tr>\n",
       "  </tbody>\n",
       "</table>\n",
       "<p>67 rows × 5 columns</p>\n",
       "</div>"
      ],
      "text/plain": [
       "   SEX  WTSEP  WTAPR  BMISP  BMIAP\n",
       "0    M     72     59  22.02  18.14\n",
       "1    M     97     86  19.70  17.44\n",
       "2    M     74     69  24.09  22.43\n",
       "3    M     93     88  26.97  25.57\n",
       "4    F     68     64  21.51  20.10\n",
       "..  ..    ...    ...    ...    ...\n",
       "62   M     65     71  22.51  24.45\n",
       "63   M     75     82  23.69  25.80\n",
       "64   F     42     49  15.08  17.74\n",
       "65   M     74     82  22.64  25.33\n",
       "66   M     94    105  36.57  40.86\n",
       "\n",
       "[67 rows x 5 columns]"
      ]
     },
     "execution_count": 5,
     "metadata": {},
     "output_type": "execute_result"
    }
   ],
   "source": [
    "f3 = pd.read_excel('./data/03_FRESH15.xls')\n",
    "f3"
   ]
  },
  {
   "cell_type": "code",
   "execution_count": 83,
   "metadata": {},
   "outputs": [
    {
     "data": {
      "text/plain": [
       "SEX      0.134328\n",
       "WTSEP    0.134328\n",
       "WTAPR    0.134328\n",
       "BMISP    0.134328\n",
       "BMIAP    0.134328\n",
       "dtype: float64"
      ]
     },
     "execution_count": 83,
     "metadata": {},
     "output_type": "execute_result"
    }
   ],
   "source": [
    "tangcan=f3[f3[\"WTSEP\"] < f3[\"WTAPR\"]].count()/f3.count().sum()\n",
    "tangcan\n",
    "\n"
   ]
  },
  {
   "cell_type": "code",
   "execution_count": 19,
   "metadata": {},
   "outputs": [
    {
     "data": {
      "text/plain": [
       "2.126925334096541"
      ]
     },
     "execution_count": 19,
     "metadata": {},
     "output_type": "execute_result"
    }
   ],
   "source": [
    "# Tính tỉ lệ phần trăm tăng cân của từng sinh viên\n",
    "f3[\"WTDIFF\"] = f3[\"WTAPR\"] - f3[\"WTSEP\"]\n",
    "f3[\"BMIDIFF\"] = f3[\"BMIAP\"] - f3[\"BMISP\"]\n",
    "f3[\"PCT_CHANGE\"] = (f3[\"BMIDIFF\"] / f3[\"BMISP\"]) * 100\n",
    "\n",
    "# Tính ước lượng điểm tốt nhất của tỉ lệ phần trăm tăng cân của các sinh viên\n",
    "pct_change_mean = f3[\"PCT_CHANGE\"].mean()\n",
    "pct_change_mean\n"
   ]
  },
  {
   "cell_type": "code",
   "execution_count": 20,
   "metadata": {},
   "outputs": [
    {
     "name": "stdout",
     "output_type": "stream",
     "text": [
      "95% confidence interval for the percentage change in weight: (0.7647663677907457, 3.4890843004023364)\n"
     ]
    }
   ],
   "source": [
    "# Tính giá trị trung bình và độ lệch chuẩn của tỉ lệ phần trăm tăng cân\n",
    "pct_change_mean = f3[\"PCT_CHANGE\"].mean()\n",
    "pct_change_std = f3[\"PCT_CHANGE\"].std()\n",
    "\n",
    "# Tính giá trị z-score ở mức độ tin cậy 95%\n",
    "z_score = 1.96\n",
    "\n",
    "# Tính khoảng tin cậy 95% cho giá trị trung bình\n",
    "lower_ci = pct_change_mean - (z_score * pct_change_std / np.sqrt(len(f3)))\n",
    "upper_ci = pct_change_mean + (z_score * pct_change_std / np.sqrt(len(f3)))\n",
    "\n",
    "# In ra kết quả\n",
    "print(f\"95% confidence interval for the percentage change in weight: ({lower_ci}, {upper_ci})\")\n"
   ]
  },
  {
   "cell_type": "markdown",
   "metadata": {},
   "source": [
    "## <u>Bài 3</u>"
   ]
  },
  {
   "cell_type": "markdown",
   "metadata": {},
   "source": [
    "Lượng mưa ở Boston: liên quan đến Dataset 14 trong file excel, và quan tâm đến các ngày với các giá trị lượng mưa khác nhau từ 0 đến các ngày có mưa có giá trị lượng mưa lớn hơn 0. Xây dựng ước lượng khoảng tin cậy 95% cho tỉ lệ mưa trong các ngày Thứ Tư và xây dựng ước lượng khoảng tin cậy 95% cho tỉ lệ mưa trong các ngày Chủ Nhật."
   ]
  },
  {
   "cell_type": "code",
   "execution_count": null,
   "metadata": {
    "collapsed": true,
    "jupyter": {
     "outputs_hidden": true
    }
   },
   "outputs": [],
   "source": [
    "f14 = pd.read_excel('./data/14_BOSTRAIN.xls')\n",
    "f14"
   ]
  },
  {
   "cell_type": "code",
   "execution_count": 23,
   "metadata": {},
   "outputs": [],
   "source": [
    "import pandas as pd\n",
    "\n",
    "\n",
    "# hàm tính tỉ lệ mưa cho một ngày bất kỳ\n",
    "def rainfall_ratio(day):\n",
    "    return f14.iloc[:, day].mean()\n"
   ]
  },
  {
   "cell_type": "code",
   "execution_count": 25,
   "metadata": {},
   "outputs": [
    {
     "ename": "ValueError",
     "evalue": "Location based indexing can only have [integer, integer slice (START point is INCLUDED, END point is EXCLUDED), listlike of integers, boolean array] types",
     "output_type": "error",
     "traceback": [
      "\u001b[1;31m---------------------------------------------------------------------------\u001b[0m",
      "\u001b[1;31mValueError\u001b[0m                                Traceback (most recent call last)",
      "File \u001b[1;32mc:\\Users\\THAICU~1\\AppData\\Local\\Programs\\Python\\Python311\\Lib\\site-packages\\pandas\\core\\indexing.py:873\u001b[0m, in \u001b[0;36m_LocationIndexer._validate_tuple_indexer\u001b[1;34m(self, key)\u001b[0m\n\u001b[0;32m    872\u001b[0m \u001b[39mtry\u001b[39;00m:\n\u001b[1;32m--> 873\u001b[0m     \u001b[39mself\u001b[39;49m\u001b[39m.\u001b[39;49m_validate_key(k, i)\n\u001b[0;32m    874\u001b[0m \u001b[39mexcept\u001b[39;00m \u001b[39mValueError\u001b[39;00m \u001b[39mas\u001b[39;00m err:\n",
      "File \u001b[1;32mc:\\Users\\THAICU~1\\AppData\\Local\\Programs\\Python\\Python311\\Lib\\site-packages\\pandas\\core\\indexing.py:1483\u001b[0m, in \u001b[0;36m_iLocIndexer._validate_key\u001b[1;34m(self, key, axis)\u001b[0m\n\u001b[0;32m   1482\u001b[0m \u001b[39melse\u001b[39;00m:\n\u001b[1;32m-> 1483\u001b[0m     \u001b[39mraise\u001b[39;00m \u001b[39mValueError\u001b[39;00m(\u001b[39mf\u001b[39m\u001b[39m\"\u001b[39m\u001b[39mCan only index by location with a [\u001b[39m\u001b[39m{\u001b[39;00m\u001b[39mself\u001b[39m\u001b[39m.\u001b[39m_valid_types\u001b[39m}\u001b[39;00m\u001b[39m]\u001b[39m\u001b[39m\"\u001b[39m)\n",
      "\u001b[1;31mValueError\u001b[0m: Can only index by location with a [integer, integer slice (START point is INCLUDED, END point is EXCLUDED), listlike of integers, boolean array]",
      "\nThe above exception was the direct cause of the following exception:\n",
      "\u001b[1;31mValueError\u001b[0m                                Traceback (most recent call last)",
      "Cell \u001b[1;32mIn[25], line 15\u001b[0m\n\u001b[0;32m     13\u001b[0m rainfall_ratios \u001b[39m=\u001b[39m []\n\u001b[0;32m     14\u001b[0m \u001b[39mfor\u001b[39;00m sample \u001b[39min\u001b[39;00m bootstrap_samples:\n\u001b[1;32m---> 15\u001b[0m     wed_ratio \u001b[39m=\u001b[39m sample\u001b[39m.\u001b[39;49miloc[:, wed_day]\u001b[39m.\u001b[39mmean()\n\u001b[0;32m     16\u001b[0m     sun_ratio \u001b[39m=\u001b[39m sample\u001b[39m.\u001b[39miloc[:, sun_day]\u001b[39m.\u001b[39mmean()\n\u001b[0;32m     17\u001b[0m     rainfall_ratios\u001b[39m.\u001b[39mappend((wed_ratio, sun_ratio))\n",
      "File \u001b[1;32mc:\\Users\\THAICU~1\\AppData\\Local\\Programs\\Python\\Python311\\Lib\\site-packages\\pandas\\core\\indexing.py:1067\u001b[0m, in \u001b[0;36m_LocationIndexer.__getitem__\u001b[1;34m(self, key)\u001b[0m\n\u001b[0;32m   1065\u001b[0m     \u001b[39mif\u001b[39;00m \u001b[39mself\u001b[39m\u001b[39m.\u001b[39m_is_scalar_access(key):\n\u001b[0;32m   1066\u001b[0m         \u001b[39mreturn\u001b[39;00m \u001b[39mself\u001b[39m\u001b[39m.\u001b[39mobj\u001b[39m.\u001b[39m_get_value(\u001b[39m*\u001b[39mkey, takeable\u001b[39m=\u001b[39m\u001b[39mself\u001b[39m\u001b[39m.\u001b[39m_takeable)\n\u001b[1;32m-> 1067\u001b[0m     \u001b[39mreturn\u001b[39;00m \u001b[39mself\u001b[39;49m\u001b[39m.\u001b[39;49m_getitem_tuple(key)\n\u001b[0;32m   1068\u001b[0m \u001b[39melse\u001b[39;00m:\n\u001b[0;32m   1069\u001b[0m     \u001b[39m# we by definition only have the 0th axis\u001b[39;00m\n\u001b[0;32m   1070\u001b[0m     axis \u001b[39m=\u001b[39m \u001b[39mself\u001b[39m\u001b[39m.\u001b[39maxis \u001b[39mor\u001b[39;00m \u001b[39m0\u001b[39m\n",
      "File \u001b[1;32mc:\\Users\\THAICU~1\\AppData\\Local\\Programs\\Python\\Python311\\Lib\\site-packages\\pandas\\core\\indexing.py:1563\u001b[0m, in \u001b[0;36m_iLocIndexer._getitem_tuple\u001b[1;34m(self, tup)\u001b[0m\n\u001b[0;32m   1561\u001b[0m \u001b[39mdef\u001b[39;00m \u001b[39m_getitem_tuple\u001b[39m(\u001b[39mself\u001b[39m, tup: \u001b[39mtuple\u001b[39m):\n\u001b[1;32m-> 1563\u001b[0m     tup \u001b[39m=\u001b[39m \u001b[39mself\u001b[39;49m\u001b[39m.\u001b[39;49m_validate_tuple_indexer(tup)\n\u001b[0;32m   1564\u001b[0m     \u001b[39mwith\u001b[39;00m suppress(IndexingError):\n\u001b[0;32m   1565\u001b[0m         \u001b[39mreturn\u001b[39;00m \u001b[39mself\u001b[39m\u001b[39m.\u001b[39m_getitem_lowerdim(tup)\n",
      "File \u001b[1;32mc:\\Users\\THAICU~1\\AppData\\Local\\Programs\\Python\\Python311\\Lib\\site-packages\\pandas\\core\\indexing.py:875\u001b[0m, in \u001b[0;36m_LocationIndexer._validate_tuple_indexer\u001b[1;34m(self, key)\u001b[0m\n\u001b[0;32m    873\u001b[0m         \u001b[39mself\u001b[39m\u001b[39m.\u001b[39m_validate_key(k, i)\n\u001b[0;32m    874\u001b[0m     \u001b[39mexcept\u001b[39;00m \u001b[39mValueError\u001b[39;00m \u001b[39mas\u001b[39;00m err:\n\u001b[1;32m--> 875\u001b[0m         \u001b[39mraise\u001b[39;00m \u001b[39mValueError\u001b[39;00m(\n\u001b[0;32m    876\u001b[0m             \u001b[39m\"\u001b[39m\u001b[39mLocation based indexing can only have \u001b[39m\u001b[39m\"\u001b[39m\n\u001b[0;32m    877\u001b[0m             \u001b[39mf\u001b[39m\u001b[39m\"\u001b[39m\u001b[39m[\u001b[39m\u001b[39m{\u001b[39;00m\u001b[39mself\u001b[39m\u001b[39m.\u001b[39m_valid_types\u001b[39m}\u001b[39;00m\u001b[39m] types\u001b[39m\u001b[39m\"\u001b[39m\n\u001b[0;32m    878\u001b[0m         ) \u001b[39mfrom\u001b[39;00m \u001b[39merr\u001b[39;00m\n\u001b[0;32m    879\u001b[0m \u001b[39mreturn\u001b[39;00m key\n",
      "\u001b[1;31mValueError\u001b[0m: Location based indexing can only have [integer, integer slice (START point is INCLUDED, END point is EXCLUDED), listlike of integers, boolean array] types"
     ]
    }
   ],
   "source": [
    "import numpy as np\n",
    "\n",
    "# số lượng mẫu bootstrap\n",
    "n_samples = len(f14)\n",
    "\n",
    "# số ngày WED và SUN\n",
    "wed_day = f14[\"WED\"].mean()\n",
    "sun_day = f14[\"SUN\"].mean()\n",
    "# tạo ra các mẫu ngẫu nhiên từ bảng dữ liệu\n",
    "bootstrap_samples = [f14.sample(frac=1.0, replace=True) for i in range(n_samples)]\n",
    "\n",
    "# tính tỉ lệ mưa trung bình trên mỗi mẫu bootstrap\n",
    "rainfall_ratios = []\n",
    "for sample in bootstrap_samples:\n",
    "    wed_ratio = sample.iloc[:, wed_day].mean()\n",
    "    sun_ratio = sample.iloc[:, sun_day].mean()\n",
    "    rainfall_ratios.append((wed_ratio, sun_ratio))\n",
    "\n",
    "# tính khoảng tin cậy 95% cho tỉ lệ mưa trong các ngày WED và SUN\n",
    "wed_ci = np.percentile([r[0] for r in rainfall_ratios], [2.5, 97.5])\n",
    "sun_ci = np.percentile([r[1] for r in rainfall_ratios], [2.5, 97.5])\n",
    "\n",
    "print(\"95% confidence interval for rainfall ratio on Wednesdays:\", wed_ci)\n",
    "print(\"95% confidence interval for rainfall ratio on Sundays:\", sun_ci)\n"
   ]
  },
  {
   "cell_type": "code",
   "execution_count": null,
   "metadata": {},
   "outputs": [],
   "source": [
    "import math\n",
    "from scipy.stats import norm\n",
    "\n",
    "def wilson_ci(p, n, alpha=0.05):\n",
    "    z = norm.ppf(1 - alpha/2)\n",
    "    phat = p * 1.0 / n\n",
    "    numerator = phat + z*z/(2*n) - z*math.sqrt((phat*(1-phat)+z*z/(4*n))/n)\n",
    "    denominator = 1 + z*z/n\n",
    "    return (numerator / denominator, phat, phat*(1-phat)/n)\n",
    "\n",
    "# Khoảng tin cậy cho ngày WED\n",
    "p_wed = 12 / 30\n",
    "ci_wed = wilson_ci(p_wed, n=30)\n",
    "print(\"Wilson confidence interval for WED:\", ci_wed)\n",
    "\n",
    "# Khoảng tin cậy cho ngày SUN\n",
    "p_sun = 8 / 20\n",
    "ci_sun = wilson_ci(p_sun, n=20)\n",
    "print(\"Wilson confidence interval for SUN:\", ci_sun)\n"
   ]
  },
  {
   "cell_type": "markdown",
   "metadata": {},
   "source": [
    "## <u>Bài 4</u>"
   ]
  },
  {
   "cell_type": "markdown",
   "metadata": {},
   "source": [
    "Tổng số tiền phim: liên quan đến Dataset 9 trong file excel. Xây dựng ước tính khoảng thời gian tin cậy 95% của tổng số tiền trung bình cho quần thể của tất cả các phim. Giả định rằng độ lệch chuẩn của quần thể được biết là 100 triệu đô la. "
   ]
  },
  {
   "cell_type": "code",
   "execution_count": null,
   "metadata": {
    "collapsed": true,
    "jupyter": {
     "outputs_hidden": true
    }
   },
   "outputs": [],
   "source": []
  },
  {
   "cell_type": "markdown",
   "metadata": {},
   "source": [
    "## <u>Bài 5</u>"
   ]
  },
  {
   "cell_type": "markdown",
   "metadata": {},
   "source": [
    "Điểm đánh giá tín dụng FICO: liên quan đến Dataset 24 trong file excel. Xây dựng ước lượng khoảng tin cậy 99% của điểm FICO trung bình cho quần thể. Giả sử độ lệch chuẩn của quần thể là 92,2."
   ]
  },
  {
   "cell_type": "code",
   "execution_count": null,
   "metadata": {
    "tags": []
   },
   "outputs": [],
   "source": []
  }
 ],
 "metadata": {
  "kernelspec": {
   "display_name": "Python 3",
   "language": "python",
   "name": "python3"
  },
  "language_info": {
   "codemirror_mode": {
    "name": "ipython",
    "version": 3
   },
   "file_extension": ".py",
   "mimetype": "text/x-python",
   "name": "python",
   "nbconvert_exporter": "python",
   "pygments_lexer": "ipython3",
   "version": "3.11.0"
  }
 },
 "nbformat": 4,
 "nbformat_minor": 4
}
