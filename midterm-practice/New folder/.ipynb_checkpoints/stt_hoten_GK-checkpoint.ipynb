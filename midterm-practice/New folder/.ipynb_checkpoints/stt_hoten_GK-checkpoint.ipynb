{
 "cells": [
  {
   "cell_type": "markdown",
   "metadata": {},
   "source": [
    "# Giữa kỳ\n",
    "\n",
    "## THÔNG TIN\n",
    "\n",
    "- Họ tên:\n",
    "- STT:\n",
    "- MSV\n",
    "\n",
    "Bài thi GK"
   ]
  },
  {
   "cell_type": "code",
   "execution_count": null,
   "metadata": {},
   "outputs": [],
   "source": [
    "# import library...\n",
    "# ..."
   ]
  },
  {
   "cell_type": "markdown",
   "metadata": {},
   "source": [
    "## ĐỀ BÀI\n",
    "\n",
    "Hai bộ dữ liệu `gmp-continents.csv` và `gmp-countries.csv` chứa thông tin về các dân số quốc gia và khu vực qua các năm khác nhau"
   ]
  },
  {
   "cell_type": "markdown",
   "metadata": {},
   "source": [
    "### Câu 1: (1 điểm)\n",
    "\n",
    "Đọc hai bộ dữ liệu trên và cho biết mỗi bộ dữ liệu có kích thước bao nhiêu dòng, bao nhiêu cột?"
   ]
  },
  {
   "cell_type": "code",
   "execution_count": null,
   "metadata": {},
   "outputs": [],
   "source": []
  },
  {
   "cell_type": "markdown",
   "metadata": {},
   "source": [
    "### Câu 2 (2 điểm)\n",
    "\n",
    "a, (1 điểm) Liệt kê top 5 nước có dân số cao nhất năm 2020\n",
    "\n",
    "b, (1 điểm) Vẽ đồ thị pie-chart để hiển thị tỷ lệ dân số giữa các châu lục"
   ]
  },
  {
   "cell_type": "code",
   "execution_count": null,
   "metadata": {},
   "outputs": [],
   "source": []
  },
  {
   "cell_type": "markdown",
   "metadata": {},
   "source": [
    "### Câu 3: (2 điểm)\n",
    "\n",
    "a, (1 điểm) Vẽ đồ thị histogram dân số các nước năm 2000\n",
    "\n",
    "b, (1 điểm) Vẽ đồ thị boxplot dân số các nước từ năm 2000 - 2020"
   ]
  },
  {
   "cell_type": "code",
   "execution_count": null,
   "metadata": {},
   "outputs": [],
   "source": []
  },
  {
   "cell_type": "markdown",
   "metadata": {},
   "source": [
    "### Câu 4: (2 điểm)\n",
    "\n",
    "a, (1.5 điểm) Vẽ biểu đồ tăng trưởng về dân số của 10 quốc gia Đông Nam Á. \n",
    "\n",
    "b, (0.5 điểm) Dựa vào hình vẽ bạn hãy cho biết quốc gia nào có tốc độ tăng trưởng nhanh nhất?"
   ]
  },
  {
   "cell_type": "code",
   "execution_count": null,
   "metadata": {},
   "outputs": [],
   "source": []
  },
  {
   "cell_type": "markdown",
   "metadata": {},
   "source": [
    "---"
   ]
  }
 ],
 "metadata": {
  "kernelspec": {
   "display_name": "Python 3 (ipykernel)",
   "language": "python",
   "name": "python3"
  },
  "language_info": {
   "codemirror_mode": {
    "name": "ipython",
    "version": 3
   },
   "file_extension": ".py",
   "mimetype": "text/x-python",
   "name": "python",
   "nbconvert_exporter": "python",
   "pygments_lexer": "ipython3",
   "version": "3.11.5"
  }
 },
 "nbformat": 4,
 "nbformat_minor": 2
}
